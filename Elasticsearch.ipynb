{
 "cells": [
  {
   "cell_type": "code",
   "execution_count": 55,
   "metadata": {},
   "outputs": [
    {
     "name": "stdout",
     "output_type": "stream",
     "text": [
      "Requirement already satisfied: pandas in .\\kowshi\\lib\\site-packages (2.2.3)Note: you may need to restart the kernel to use updated packages.\n",
      "\n",
      "Requirement already satisfied: numpy>=1.26.0 in .\\kowshi\\lib\\site-packages (from pandas) (2.1.1)\n",
      "Requirement already satisfied: python-dateutil>=2.8.2 in .\\kowshi\\lib\\site-packages (from pandas) (2.9.0.post0)\n",
      "Requirement already satisfied: pytz>=2020.1 in .\\kowshi\\lib\\site-packages (from pandas) (2024.2)\n",
      "Requirement already satisfied: tzdata>=2022.7 in .\\kowshi\\lib\\site-packages (from pandas) (2024.2)\n",
      "Requirement already satisfied: six>=1.5 in .\\kowshi\\lib\\site-packages (from python-dateutil>=2.8.2->pandas) (1.16.0)\n"
     ]
    },
    {
     "name": "stderr",
     "output_type": "stream",
     "text": [
      "\n",
      "[notice] A new release of pip is available: 24.0 -> 24.2\n",
      "[notice] To update, run: python.exe -m pip install --upgrade pip\n"
     ]
    }
   ],
   "source": [
    "pip install pandas"
   ]
  },
  {
   "cell_type": "code",
   "execution_count": 56,
   "metadata": {},
   "outputs": [
    {
     "name": "stdout",
     "output_type": "stream",
     "text": [
      "Requirement already satisfied: elasticsearch in .\\kowshi\\lib\\site-packages (8.15.1)Note: you may need to restart the kernel to use updated packages.\n"
     ]
    },
    {
     "name": "stderr",
     "output_type": "stream",
     "text": [
      "\n",
      "[notice] A new release of pip is available: 24.0 -> 24.2\n",
      "[notice] To update, run: python.exe -m pip install --upgrade pip\n"
     ]
    },
    {
     "name": "stdout",
     "output_type": "stream",
     "text": [
      "\n",
      "Requirement already satisfied: elastic-transport<9,>=8.13 in .\\kowshi\\lib\\site-packages (from elasticsearch) (8.15.0)\n",
      "Requirement already satisfied: urllib3<3,>=1.26.2 in .\\kowshi\\lib\\site-packages (from elastic-transport<9,>=8.13->elasticsearch) (2.2.3)\n",
      "Requirement already satisfied: certifi in .\\kowshi\\lib\\site-packages (from elastic-transport<9,>=8.13->elasticsearch) (2024.8.30)\n"
     ]
    }
   ],
   "source": [
    "pip install elasticsearch"
   ]
  },
  {
   "cell_type": "code",
   "execution_count": 57,
   "metadata": {},
   "outputs": [
    {
     "data": {
      "text/plain": [
       "{'name': '6b25b00d1398',\n",
       " 'cluster_name': 'docker-cluster',\n",
       " 'cluster_uuid': 'OQA0xXHlSkGzK1ZGptRGEQ',\n",
       " 'version': {'number': '8.7.0',\n",
       "  'build_flavor': 'default',\n",
       "  'build_type': 'docker',\n",
       "  'build_hash': '09520b59b6bc1057340b55750186466ea715e30e',\n",
       "  'build_date': '2023-03-27T16:31:09.816451435Z',\n",
       "  'build_snapshot': False,\n",
       "  'lucene_version': '9.5.0',\n",
       "  'minimum_wire_compatibility_version': '7.17.0',\n",
       "  'minimum_index_compatibility_version': '7.0.0'},\n",
       " 'tagline': 'You Know, for Search'}"
      ]
     },
     "execution_count": 57,
     "metadata": {},
     "output_type": "execute_result"
    }
   ],
   "source": [
    "from elasticsearch import Elasticsearch\n",
    "\n",
    "es = Elasticsearch(\"http://localhost:9200\")\n",
    "es.info().body"
   ]
  },
  {
   "cell_type": "code",
   "execution_count": 58,
   "metadata": {},
   "outputs": [],
   "source": [
    "import pandas as pd\n",
    "\n",
    "df = (\n",
    "    pd.read_csv(\"Employee Sample Data 1.csv\",encoding=\"latin\")\n",
    "    .dropna()\n",
    "    .reset_index()\n",
    ")"
   ]
  },
  {
   "cell_type": "code",
   "execution_count": 59,
   "metadata": {},
   "outputs": [],
   "source": [
    "mappings = {\n",
    "    \"properties\": {\n",
    "        \"employee_id\": {\"type\": \"keyword\"},\n",
    "        \"full_name\": {\"type\": \"text\", \"analyzer\": \"standard\"},\n",
    "        \"job_title\": {\"type\": \"text\", \"analyzer\": \"standard\"},\n",
    "        \"department\": {\"type\": \"text\", \"analyzer\": \"standard\"},\n",
    "        \"business_unit\": {\"type\": \"text\", \"analyzer\": \"standard\"},\n",
    "        \"gender\": {\"type\": \"keyword\"},\n",
    "        \"ethnicity\": {\"type\": \"keyword\"},\n",
    "        \"age\": {\"type\": \"integer\"},\n",
    "        \"hire_date\": {\"type\": \"date\", \"format\": \"M/d/yyyy||MM/dd/yyyy\"},\n",
    "        \"annual_salary\": {\"type\": \"text\"},\n",
    "        \"bonus_percent\": {\"type\": \"text\"},\n",
    "        \"country\": {\"type\": \"keyword\"},\n",
    "        \"city\": {\"type\": \"keyword\"},\n",
    "        \"exit_date\": {\"type\": \"date\", \"format\": \"M/d/yyyy\", \"null_value\": None}\n",
    "    }\n",
    "}"
   ]
  },
  {
   "cell_type": "code",
   "execution_count": 60,
   "metadata": {},
   "outputs": [
    {
     "data": {
      "text/plain": [
       "ListApiResponse([{'epoch': '1727973219', 'timestamp': '16:33:39', 'count': '102'}])"
      ]
     },
     "execution_count": 60,
     "metadata": {},
     "output_type": "execute_result"
    }
   ],
   "source": [
    "if not es.indices.exists(index=\"employee_data\"):\n",
    "    es.indices.create(index=\"employee_data\", mappings=mappings)\n",
    "for i, row in df.iterrows():\n",
    "    doc = {\n",
    "            \"id\": row[\"Employee ID\"],\n",
    "            \"Full Name\": row[\"Full Name\"],\n",
    "            \"Job Title\": row[\"Job Title\"],\n",
    "            \"Department\": row[\"Department\"],\n",
    "            \"Business Unit\": row[\"Business Unit\"],\n",
    "            \"Gender\": row[\"Gender\"],\n",
    "            \"Ethnicity\": row[\"Ethnicity\"],\n",
    "            \"Age\": row[\"Age\"],\n",
    "            \"Hire Date\": row[\"Hire Date\"],\n",
    "            \"Annual Salary\": row[\"Annual Salary\"],\n",
    "            \"Bonus\": row[\"Bonus %\"],\n",
    "            \"Country\": row[\"Country\"],\n",
    "            \"City\": row[\"City\"]\n",
    "        }\n",
    "    if pd.notnull(row[\"Exit Date\"]):\n",
    "        try:\n",
    "            exit_date = pd.to_datetime(row[\"Exit Date\"], format=\"%m/%d/%Y\")\n",
    "            doc[\"Exit Date\"] = exit_date.strftime('%Y-%m-%d')\n",
    "        except ValueError:\n",
    "            pass\n",
    "    es.index(index=\"employee_data\", id=i, document=doc)\n",
    "es.indices.refresh(index=\"employee_data\")\n",
    "es.cat.count(index=\"employee_data\", format=\"json\")\n",
    "\n"
   ]
  },
  {
   "cell_type": "code",
   "execution_count": 61,
   "metadata": {},
   "outputs": [],
   "source": [
    "resp = es.search(\n",
    "    index=\"employee_data\",\n",
    "    query={\n",
    "        \"bool\": {\n",
    "            \"must\": {\n",
    "                \"match_phrase\": {\n",
    "                    \"Job Title\": \"Network Administrator\"\n",
    "                }\n",
    "            },\n",
    "            \"filter\": {\n",
    "                \"bool\": {\n",
    "                    \"must\": {\n",
    "                        \"match\": {\"City\": \"Phoenix\"}\n",
    "                    },\n",
    "                    \"must_not\": {\n",
    "                        \"match_phrase\": {\"Department\": \"Human Resources\"}\n",
    "                    }\n",
    "                }\n",
    "            }\n",
    "        }\n",
    "    }\n",
    ")"
   ]
  },
  {
   "cell_type": "code",
   "execution_count": 62,
   "metadata": {},
   "outputs": [
    {
     "name": "stdout",
     "output_type": "stream",
     "text": [
      "5.643914\n"
     ]
    }
   ],
   "source": [
    "for hit in resp['hits']['hits']:\n",
    "    print(hit[\"_score\"])"
   ]
  },
  {
   "cell_type": "code",
   "execution_count": 63,
   "metadata": {},
   "outputs": [],
   "source": [
    "def createCollection(p_collection_name):\n",
    "    mappings = {\n",
    "        \"properties\": {\n",
    "            \"employee_id\": {\"type\": \"keyword\"},\n",
    "            \"full_name\": {\"type\": \"text\", \"analyzer\": \"standard\"},\n",
    "            \"job_title\": {\"type\": \"text\", \"analyzer\": \"standard\"},\n",
    "            \"department\": {\"type\": \"text\", \"analyzer\": \"standard\"},\n",
    "            \"business_unit\": {\"type\": \"text\", \"analyzer\": \"standard\"},\n",
    "            \"gender\": {\"type\": \"keyword\"},\n",
    "            \"ethnicity\": {\"type\": \"keyword\"},\n",
    "            \"age\": {\"type\": \"integer\"},\n",
    "            \"hire_date\": {\"type\": \"date\", \"format\": \"M/d/yyyy||MM/dd/yyyy\"},\n",
    "            \"annual_salary\": {\"type\": \"text\"},\n",
    "            \"bonus_percent\": {\"type\": \"text\"},\n",
    "            \"country\": {\"type\": \"keyword\"},\n",
    "            \"city\": {\"type\": \"keyword\"},\n",
    "            \"exit_date\": {\"type\": \"date\", \"format\": \"M/d/yyyy\", \"null_value\": None}\n",
    "        }\n",
    "    }\n",
    "    if not es.indices.exists(index=p_collection_name):\n",
    "        es.indices.create(index=p_collection_name, mappings=mappings)\n",
    "        print(f\"Collection '{p_collection_name}' created successfully.\")\n",
    "    else:\n",
    "        print(f\"Collection '{p_collection_name}' already exists.\")"
   ]
  },
  {
   "cell_type": "code",
   "execution_count": 64,
   "metadata": {},
   "outputs": [],
   "source": [
    "def searchByColumn(p_collection_name, p_column_name, p_column_value):\n",
    "    query = {\n",
    "        \"match\": {\n",
    "            p_column_name: p_column_value\n",
    "        }\n",
    "    }\n",
    "    resp = es.search(index=p_collection_name, query=query)\n",
    "    print(f\"Search results for {p_column_name}='{p_column_value}':\")\n",
    "\n",
    "#Print the raw response to debug if needed\n",
    "    print(resp)\n",
    "\n",
    "    if resp['hits']['total']['value'] > 0:\n",
    "        for hit in resp['hits']['hits']:\n",
    "            print(hit[\"_source\"])\n",
    "    else:\n",
    "        print(f\"No records found for {p_column_name}='{p_column_value}' in collection '{p_collection_name}'\")"
   ]
  },
  {
   "cell_type": "code",
   "execution_count": 65,
   "metadata": {},
   "outputs": [],
   "source": [
    "def indexData(p_collection_name, p_exclude_column):\n",
    "    for i, row in df.iterrows():\n",
    "        doc = {\n",
    "            \"employee_id\": row[\"Employee ID\"],\n",
    "            \"full_name\": row[\"Full Name\"],\n",
    "            \"job_title\": row[\"Job Title\"],\n",
    "            \"department\": row[\"Department\"],\n",
    "            \"business_unit\": row[\"Business Unit\"],\n",
    "            \"gender\": row[\"Gender\"],\n",
    "            \"ethnicity\": row[\"Ethnicity\"],\n",
    "            \"age\": row[\"Age\"],\n",
    "            \"hire_date\": row[\"Hire Date\"],\n",
    "            \"annual_salary\": row[\"Annual Salary\"],\n",
    "            \"bonus_percent\": row[\"Bonus %\"],\n",
    "            \"country\": row[\"Country\"],\n",
    "            \"city\": row[\"City\"]\n",
    "        }\n",
    "\n",
    "        # Handle Exit Date if not null\n",
    "        if pd.notnull(row[\"Exit Date\"]):\n",
    "            try:\n",
    "                exit_date = pd.to_datetime(row[\"Exit Date\"], format=\"%m/%d/%Y\")\n",
    "                doc[\"exit_date\"] = exit_date.strftime('%Y-%m-%d')\n",
    "            except ValueError:\n",
    "                pass\n",
    "\n",
    "        # Ensure age is numeric and handle missing values\n",
    "        try:\n",
    "            doc[\"age\"] = int(row[\"Age\"])\n",
    "        except (ValueError, TypeError):\n",
    "            doc[\"age\"] = None  # Provide a default value if necessary\n",
    "\n",
    "        # Handle hire date parsing errors\n",
    "        try:\n",
    "            doc[\"hire_date\"] = pd.to_datetime(row[\"Hire Date\"], format=\"%m/%d/%Y\").strftime('%Y-%m-%d')\n",
    "        except ValueError:\n",
    "            doc[\"hire_date\"] = None  # Handle invalid date format\n",
    "\n",
    "        # Exclude the specified column\n",
    "        if p_exclude_column in doc:\n",
    "            del doc[p_exclude_column]\n",
    "\n",
    "        # Print the document being indexed\n",
    "        print(f\"Indexing document {i}: {doc}\")\n",
    "\n",
    "        # Index the document into Elasticsearch\n",
    "        try:\n",
    "            es.index(index=p_collection_name, id=i, document=doc)\n",
    "        except Exception as e:\n",
    "            pass\n",
    "\n",
    "    # Refresh the Elasticsearch index after indexing the data\n",
    "    es.indices.refresh(index=p_collection_name)\n"
   ]
  },
  {
   "cell_type": "code",
   "execution_count": 66,
   "metadata": {},
   "outputs": [],
   "source": [
    "def searchByColumn(p_collection_name, p_column_name, p_column_value):\n",
    "    query = {\n",
    "        \"match\": {\n",
    "            p_column_name: p_column_value\n",
    "        }\n",
    "    }\n",
    "\n",
    "    # Execute the search with the constructed query\n",
    "    resp = es.search(index=p_collection_name, size=10, query=query)\n",
    "\n",
    "    # Loop through and print each hit\n",
    "    for hit in resp['hits']['hits']:\n",
    "        print(hit[\"_source\"])\n"
   ]
  },
  {
   "cell_type": "code",
   "execution_count": 67,
   "metadata": {},
   "outputs": [],
   "source": [
    "def getEmpCount(p_collection_name):\n",
    "    count = es.cat.count(index=p_collection_name, format=\"json\")\n",
    "    print(f\"Total employees in collection '{p_collection_name}':\", count[0][\"count\"])"
   ]
  },
  {
   "cell_type": "code",
   "execution_count": 68,
   "metadata": {},
   "outputs": [],
   "source": [
    "def delEmpById(p_collection_name, p_employee_id):\n",
    "    es.delete_by_query(\n",
    "        index=p_collection_name,\n",
    "        body={\n",
    "            \"query\": {\n",
    "                \"match\": {\"employee_id\": p_employee_id}\n",
    "            }\n",
    "        }\n",
    "    )\n",
    "    print(f\"Employee with ID '{p_employee_id}' deleted from collection '{p_collection_name}'.\")"
   ]
  },
  {
   "cell_type": "code",
   "execution_count": 69,
   "metadata": {},
   "outputs": [],
   "source": [
    "def getDepFacet(p_collection_name):\n",
    "    # Query to aggregate by department using the .keyword field\n",
    "    query = {\n",
    "        \"size\": 0,  # No documents returned, just the aggregation\n",
    "        \"aggs\": {\n",
    "            \"departments\": {\n",
    "                \"terms\": {\n",
    "                    \"field\": \"department.keyword\",  # Use keyword field for exact aggregation\n",
    "                    \"size\": 10  # Top 10 departments\n",
    "                }\n",
    "            }\n",
    "        }\n",
    "    }\n",
    "\n",
    "    # Perform the search with aggregation\n",
    "    try:\n",
    "        resp = es.search(index=p_collection_name, body=query)\n",
    "\n",
    "        # Check if aggregations are present\n",
    "        if 'aggregations' in resp:\n",
    "            print(\"Department Aggregation Results:\")\n",
    "            for bucket in resp['aggregations']['departments']['buckets']:\n",
    "                print(f\"Department: {bucket['key']}, Count: {bucket['doc_count']}\")\n",
    "        else:\n",
    "            print(f\"No aggregation results found for collection: {p_collection_name}\")\n",
    "    except Exception as e:\n",
    "        print(f\"Error retrieving department aggregation: {e}\")\n",
    "\n",
    "    # Print the index mapping for the collection\n",
    "    print(es.indices.get_mapping(index=p_collection_name))\n"
   ]
  },
  {
   "cell_type": "code",
   "execution_count": 70,
   "metadata": {},
   "outputs": [],
   "source": [
    "v_nameCollection = 'hash_kowshi'\n",
    "v_phoneCollection = 'hash_9483'  # Replace '1234' with the last four digits of your phone\n"
   ]
  },
  {
   "cell_type": "code",
   "execution_count": 71,
   "metadata": {},
   "outputs": [
    {
     "name": "stdout",
     "output_type": "stream",
     "text": [
      "Collection 'hash_kowshi' already exists.\n",
      "Collection 'hash_9483' already exists.\n",
      "Total employees in collection 'hash_kowshi': 0\n"
     ]
    }
   ],
   "source": [
    "# Create collections\n",
    "createCollection(v_nameCollection)\n",
    "createCollection(v_phoneCollection)\n",
    "\n",
    "# Get employee count\n",
    "getEmpCount(v_nameCollection)\n"
   ]
  },
  {
   "cell_type": "code",
   "execution_count": 72,
   "metadata": {},
   "outputs": [
    {
     "name": "stdout",
     "output_type": "stream",
     "text": [
      "Indexing document 0: {'employee_id': 'E02007', 'full_name': 'Ezra Vu', 'job_title': 'Network Administrator', 'department': 'IT', 'business_unit': 'Manufacturing', 'gender': 'Male', 'ethnicity': 'Asian', 'age': 62, 'hire_date': '2004-04-22', 'annual_salary': '$66,227 ', 'bonus_percent': '0%', 'country': 'United States', 'city': 'Phoenix', 'exit_date': '2014-02-14'}\n",
      "Indexing document 1: {'employee_id': 'E02023', 'full_name': 'Lillian Lewis', 'job_title': 'Technical Architect', 'department': 'IT', 'business_unit': 'Research & Development', 'gender': 'Female', 'ethnicity': 'Black', 'age': 43, 'hire_date': '2013-08-14', 'annual_salary': '$83,323 ', 'bonus_percent': '0%', 'country': 'United States', 'city': 'Phoenix', 'exit_date': '2019-03-31'}\n",
      "Indexing document 2: {'employee_id': 'E02038', 'full_name': 'Amelia Dominguez', 'job_title': 'Sr. Manager', 'department': 'Accounting', 'business_unit': 'Corporate', 'gender': 'Female', 'ethnicity': 'Latino', 'age': 31, 'hire_date': '2015-09-23', 'annual_salary': '$158,184 ', 'bonus_percent': '15%', 'country': 'Brazil', 'city': 'Rio de Janeiro', 'exit_date': '2018-07-27'}\n",
      "Indexing document 3: {'employee_id': 'E02043', 'full_name': 'Gianna Jones', 'job_title': 'Manager', 'department': 'Accounting', 'business_unit': 'Research & Development', 'gender': 'Female', 'ethnicity': 'Caucasian', 'age': 48, 'hire_date': '1998-09-26', 'annual_salary': '$119,220 ', 'bonus_percent': '9%', 'country': 'United States', 'city': 'Columbus', 'exit_date': '2016-11-02'}\n",
      "Indexing document 4: {'employee_id': 'E02060', 'full_name': 'Jacob Cheng', 'job_title': 'Director', 'department': 'Sales', 'business_unit': 'Manufacturing', 'gender': 'Male', 'ethnicity': 'Asian', 'age': 47, 'hire_date': '1999-11-26', 'annual_salary': '$155,890 ', 'bonus_percent': '17%', 'country': 'United States', 'city': 'Columbus', 'exit_date': '2003-11-27'}\n",
      "Indexing document 5: {'employee_id': 'E02083', 'full_name': 'Penelope Chan', 'job_title': 'Analyst II', 'department': 'Accounting', 'business_unit': 'Manufacturing', 'gender': 'Female', 'ethnicity': 'Asian', 'age': 59, 'hire_date': '2012-05-20', 'annual_salary': '$57,704 ', 'bonus_percent': '0%', 'country': 'China', 'city': 'Shanghai', 'exit_date': '2019-11-21'}\n",
      "Indexing document 6: {'employee_id': 'E02091', 'full_name': 'Lucy Edwards', 'job_title': 'Director', 'department': 'Human Resources', 'business_unit': 'Specialty Products', 'gender': 'Female', 'ethnicity': 'Black', 'age': 33, 'hire_date': '2015-03-16', 'annual_salary': '$175,875 ', 'bonus_percent': '21%', 'country': 'United States', 'city': 'Columbus', 'exit_date': '2022-05-16'}\n",
      "Indexing document 7: {'employee_id': 'E02105', 'full_name': 'Ezekiel Brown', 'job_title': 'Manager', 'department': 'Finance', 'business_unit': 'Corporate', 'gender': 'Male', 'ethnicity': 'Caucasian', 'age': 27, 'hire_date': '2022-03-14', 'annual_salary': '$120,315 ', 'bonus_percent': '8%', 'country': 'United States', 'city': 'Miami', 'exit_date': '2022-07-17'}\n",
      "Indexing document 8: {'employee_id': 'E02113', 'full_name': 'Roman Liang', 'job_title': 'Sr. Analyst', 'department': 'Sales', 'business_unit': 'Manufacturing', 'gender': 'Male', 'ethnicity': 'Asian', 'age': 28, 'hire_date': '2021-03-04', 'annual_salary': '$85,206 ', 'bonus_percent': '0%', 'country': 'China', 'city': 'Chongqing', 'exit_date': '2022-07-08'}\n",
      "Indexing document 9: {'employee_id': 'E02163', 'full_name': 'Sarah Johnson', 'job_title': 'Director', 'department': 'Engineering', 'business_unit': 'Research & Development', 'gender': 'Female', 'ethnicity': 'Caucasian', 'age': 31, 'hire_date': '2018-03-06', 'annual_salary': '$150,653 ', 'bonus_percent': '24%', 'country': 'United States', 'city': 'Austin', 'exit_date': '2019-09-01'}\n",
      "Indexing document 10: {'employee_id': 'E02167', 'full_name': 'Nolan Howard', 'job_title': 'Quality Engineer', 'department': 'Engineering', 'business_unit': 'Research & Development', 'gender': 'Male', 'ethnicity': 'Caucasian', 'age': 26, 'hire_date': '2022-04-18', 'annual_salary': '$82,963 ', 'bonus_percent': '0%', 'country': 'United States', 'city': 'Austin', 'exit_date': '2022-06-23'}\n",
      "Indexing document 11: {'employee_id': 'E02173', 'full_name': 'Zoey Leung', 'job_title': 'Network Administrator', 'department': 'IT', 'business_unit': 'Research & Development', 'gender': 'Female', 'ethnicity': 'Asian', 'age': 40, 'hire_date': '2007-09-27', 'annual_salary': '$77,637 ', 'bonus_percent': '0%', 'country': 'China', 'city': 'Chongqing', 'exit_date': '2017-02-04'}\n",
      "Indexing document 12: {'employee_id': 'E02175', 'full_name': 'Christopher Robinson', 'job_title': 'Vice President', 'department': 'Finance', 'business_unit': 'Specialty Products', 'gender': 'Male', 'ethnicity': 'Caucasian', 'age': 35, 'hire_date': '2016-07-11', 'annual_salary': '$254,287 ', 'bonus_percent': '31%', 'country': 'United States', 'city': 'Austin', 'exit_date': '2022-10-17'}\n",
      "Indexing document 13: {'employee_id': 'E02183', 'full_name': 'Madeline Chung', 'job_title': 'Analyst', 'department': 'Finance', 'business_unit': 'Research & Development', 'gender': 'Female', 'ethnicity': 'Asian', 'age': 63, 'hire_date': '2011-05-26', 'annual_salary': '$44,444 ', 'bonus_percent': '0%', 'country': 'United States', 'city': 'Miami', 'exit_date': '2015-07-12'}\n",
      "Indexing document 14: {'employee_id': 'E02184', 'full_name': 'Ariana Sharma', 'job_title': 'Vice President', 'department': 'Sales', 'business_unit': 'Research & Development', 'gender': 'Female', 'ethnicity': 'Asian', 'age': 45, 'hire_date': '2014-01-24', 'annual_salary': '$257,725 ', 'bonus_percent': '34%', 'country': 'United States', 'city': 'Seattle', 'exit_date': '2022-06-29'}\n",
      "Indexing document 15: {'employee_id': 'E02186', 'full_name': 'Logan Reyes', 'job_title': 'Quality Engineer', 'department': 'Engineering', 'business_unit': 'Corporate', 'gender': 'Male', 'ethnicity': 'Latino', 'age': 62, 'hire_date': '1995-04-10', 'annual_salary': '$78,251 ', 'bonus_percent': '0%', 'country': 'Brazil', 'city': 'Sao Paulo', 'exit_date': '2020-03-19'}\n",
      "Indexing document 16: {'employee_id': 'E02202', 'full_name': 'Charles Ramos', 'job_title': 'Sr. Analyst', 'department': 'Accounting', 'business_unit': 'Corporate', 'gender': 'Male', 'ethnicity': 'Latino', 'age': 57, 'hire_date': '2010-04-04', 'annual_salary': '$74,597 ', 'bonus_percent': '0%', 'country': 'United States', 'city': 'Austin', 'exit_date': '2016-01-30'}\n",
      "Indexing document 17: {'employee_id': 'E02210', 'full_name': 'Liliana Collins', 'job_title': 'Sr. Manager', 'department': 'Human Resources', 'business_unit': 'Specialty Products', 'gender': 'Female', 'ethnicity': 'Black', 'age': 39, 'hire_date': '2013-01-18', 'annual_salary': '$151,666 ', 'bonus_percent': '13%', 'country': 'United States', 'city': 'Chicago', 'exit_date': '2018-06-30'}\n",
      "Indexing document 18: {'employee_id': 'E02219', 'full_name': 'Iris Chung', 'job_title': 'Manager', 'department': 'IT', 'business_unit': 'Research & Development', 'gender': 'Female', 'ethnicity': 'Asian', 'age': 52, 'hire_date': '2013-03-12', 'annual_salary': '$128,301 ', 'bonus_percent': '6%', 'country': 'China', 'city': 'Beijing', 'exit_date': '2021-09-17'}\n",
      "Indexing document 19: {'employee_id': 'E02220', 'full_name': 'Thomas Rodriguez', 'job_title': 'Analyst', 'department': 'Finance', 'business_unit': 'Manufacturing', 'gender': 'Male', 'ethnicity': 'Latino', 'age': 36, 'hire_date': '2019-10-09', 'annual_salary': '$51,669 ', 'bonus_percent': '0%', 'country': 'Brazil', 'city': 'Rio de Janeiro', 'exit_date': '2022-09-29'}\n",
      "Indexing document 20: {'employee_id': 'E02230', 'full_name': 'Nolan Brooks', 'job_title': 'Business Partner', 'department': 'Human Resources', 'business_unit': 'Manufacturing', 'gender': 'Male', 'ethnicity': 'Caucasian', 'age': 40, 'hire_date': '2014-11-08', 'annual_salary': '$49,342 ', 'bonus_percent': '0%', 'country': 'United States', 'city': 'Seattle', 'exit_date': '2019-08-27'}\n",
      "Indexing document 21: {'employee_id': 'E02236', 'full_name': 'Jack Perez', 'job_title': 'Cloud Infrastructure Architect', 'department': 'IT', 'business_unit': 'Research & Development', 'gender': 'Male', 'ethnicity': 'Latino', 'age': 30, 'hire_date': '2017-01-09', 'annual_salary': '$80,389 ', 'bonus_percent': '0%', 'country': 'Brazil', 'city': 'Manaus', 'exit_date': '2017-09-10'}\n",
      "Indexing document 22: {'employee_id': 'E02244', 'full_name': 'Connor Howard', 'job_title': 'Systems Analyst', 'department': 'IT', 'business_unit': 'Specialty Products', 'gender': 'Male', 'ethnicity': 'Caucasian', 'age': 42, 'hire_date': '2021-03-15', 'annual_salary': '$44,265 ', 'bonus_percent': '0%', 'country': 'United States', 'city': 'Austin', 'exit_date': '2022-06-27'}\n",
      "Indexing document 23: {'employee_id': 'E02253', 'full_name': 'Leilani Ng', 'job_title': 'Systems Analyst', 'department': 'IT', 'business_unit': 'Corporate', 'gender': 'Female', 'ethnicity': 'Asian', 'age': 48, 'hire_date': '2011-09-19', 'annual_salary': '$50,513 ', 'bonus_percent': '0%', 'country': 'United States', 'city': 'Seattle', 'exit_date': '2019-10-30'}\n",
      "Indexing document 24: {'employee_id': 'E02262', 'full_name': 'Carson Mai', 'job_title': 'Vice President', 'department': 'Accounting', 'business_unit': 'Corporate', 'gender': 'Male', 'ethnicity': 'Asian', 'age': 50, 'hire_date': '1996-04-15', 'annual_salary': '$245,920 ', 'bonus_percent': '36%', 'country': 'United States', 'city': 'Columbus', 'exit_date': '1996-05-16'}\n",
      "Indexing document 25: {'employee_id': 'E02270', 'full_name': 'Ava Carrillo', 'job_title': 'Sr. Manager', 'department': 'Accounting', 'business_unit': 'Specialty Products', 'gender': 'Female', 'ethnicity': 'Latino', 'age': 63, 'hire_date': '1999-01-01', 'annual_salary': '$149,582 ', 'bonus_percent': '14%', 'country': 'United States', 'city': 'Seattle', 'exit_date': '2021-03-03'}\n",
      "Indexing document 26: {'employee_id': 'E02288', 'full_name': 'Christopher Vu', 'job_title': 'Computer Systems Manager', 'department': 'IT', 'business_unit': 'Corporate', 'gender': 'Male', 'ethnicity': 'Asian', 'age': 47, 'hire_date': '2002-03-16', 'annual_salary': '$88,839 ', 'bonus_percent': '5%', 'country': 'United States', 'city': 'Phoenix', 'exit_date': '2014-10-28'}\n",
      "Indexing document 27: {'employee_id': 'E02292', 'full_name': 'Lily Molina', 'job_title': 'Manager', 'department': 'IT', 'business_unit': 'Manufacturing', 'gender': 'Female', 'ethnicity': 'Latino', 'age': 40, 'hire_date': '2009-09-15', 'annual_salary': '$125,900 ', 'bonus_percent': '7%', 'country': 'United States', 'city': 'Seattle', 'exit_date': '2018-04-16'}\n",
      "Indexing document 28: {'employee_id': 'E02298', 'full_name': 'Ezekiel Kumar', 'job_title': 'Field Engineer', 'department': 'Engineering', 'business_unit': 'Manufacturing', 'gender': 'Male', 'ethnicity': 'Asian', 'age': 33, 'hire_date': '2015-11-19', 'annual_salary': '$82,906 ', 'bonus_percent': '0%', 'country': 'China', 'city': 'Chengdu', 'exit_date': '2016-10-11'}\n",
      "Indexing document 29: {'employee_id': 'E02300', 'full_name': 'Natalie Stewart', 'job_title': 'Network Engineer', 'department': 'IT', 'business_unit': 'Corporate', 'gender': 'Female', 'ethnicity': 'Caucasian', 'age': 50, 'hire_date': '2003-06-30', 'annual_salary': '$92,344 ', 'bonus_percent': '0%', 'country': 'United States', 'city': 'Phoenix', 'exit_date': '2022-01-26'}\n",
      "Indexing document 30: {'employee_id': 'E02311', 'full_name': 'Everly Coleman', 'job_title': 'Sr. Manager', 'department': 'Sales', 'business_unit': 'Corporate', 'gender': 'Female', 'ethnicity': 'Caucasian', 'age': 54, 'hire_date': '2011-08-14', 'annual_salary': '$158,403 ', 'bonus_percent': '14%', 'country': 'United States', 'city': 'Seattle', 'exit_date': '2019-08-02'}\n",
      "Indexing document 31: {'employee_id': 'E02315', 'full_name': 'Kai Phillips', 'job_title': 'Test Engineer', 'department': 'Engineering', 'business_unit': 'Research & Development', 'gender': 'Male', 'ethnicity': 'Caucasian', 'age': 48, 'hire_date': '2016-12-13', 'annual_salary': '$72,315 ', 'bonus_percent': '0%', 'country': 'United States', 'city': 'Austin', 'exit_date': '2017-05-20'}\n",
      "Indexing document 32: {'employee_id': 'E02316', 'full_name': 'Dylan Khan', 'job_title': 'Director', 'department': 'Human Resources', 'business_unit': 'Manufacturing', 'gender': 'Male', 'ethnicity': 'Asian', 'age': 35, 'hire_date': '2015-07-11', 'annual_salary': '$153,815 ', 'bonus_percent': '19%', 'country': 'United States', 'city': 'Miami', 'exit_date': '2016-05-31'}\n",
      "Indexing document 33: {'employee_id': 'E02326', 'full_name': 'Gabriel Ahmed', 'job_title': 'HRIS Analyst', 'department': 'Human Resources', 'business_unit': 'Corporate', 'gender': 'Male', 'ethnicity': 'Asian', 'age': 65, 'hire_date': '2021-10-09', 'annual_salary': '$73,996 ', 'bonus_percent': '0%', 'country': 'China', 'city': 'Chengdu', 'exit_date': '2022-09-04'}\n",
      "Indexing document 34: {'employee_id': 'E02349', 'full_name': 'Thomas Silva', 'job_title': 'Analyst', 'department': 'Finance', 'business_unit': 'Specialty Products', 'gender': 'Male', 'ethnicity': 'Latino', 'age': 45, 'hire_date': '2015-08-13', 'annual_salary': '$52,798 ', 'bonus_percent': '0%', 'country': 'United States', 'city': 'Miami', 'exit_date': '2018-01-30'}\n",
      "Indexing document 35: {'employee_id': 'E02351', 'full_name': 'Liam Jimenez', 'job_title': 'Sr. Analyst', 'department': 'Marketing', 'business_unit': 'Research & Development', 'gender': 'Male', 'ethnicity': 'Latino', 'age': 52, 'hire_date': '2002-08-11', 'annual_salary': '$95,682 ', 'bonus_percent': '0%', 'country': 'United States', 'city': 'Seattle', 'exit_date': '2012-05-17'}\n",
      "Indexing document 36: {'employee_id': 'E02361', 'full_name': 'Christian Castro', 'job_title': 'IT Coordinator', 'department': 'IT', 'business_unit': 'Specialty Products', 'gender': 'Male', 'ethnicity': 'Latino', 'age': 40, 'hire_date': '2006-04-15', 'annual_salary': '$43,645 ', 'bonus_percent': '0%', 'country': 'United States', 'city': 'Austin', 'exit_date': '2008-05-09'}\n",
      "Indexing document 37: {'employee_id': 'E02366', 'full_name': 'Aria Molina', 'job_title': 'Development Engineer', 'department': 'Engineering', 'business_unit': 'Research & Development', 'gender': 'Female', 'ethnicity': 'Latino', 'age': 52, 'hire_date': '2001-10-24', 'annual_salary': '$89,811 ', 'bonus_percent': '0%', 'country': 'Brazil', 'city': 'Rio de Janeiro', 'exit_date': '2022-08-20'}\n",
      "Indexing document 38: {'employee_id': 'E02385', 'full_name': 'Ivy Mehta', 'job_title': 'Business Partner', 'department': 'Human Resources', 'business_unit': 'Manufacturing', 'gender': 'Female', 'ethnicity': 'Asian', 'age': 50, 'hire_date': '2020-05-26', 'annual_salary': '$45,290 ', 'bonus_percent': '0%', 'country': 'China', 'city': 'Chongqing', 'exit_date': '2021-08-04'}\n",
      "Indexing document 39: {'employee_id': 'E02398', 'full_name': 'Hailey Washington', 'job_title': 'Sr. Manager', 'department': 'Finance', 'business_unit': 'Specialty Products', 'gender': 'Female', 'ethnicity': 'Black', 'age': 51, 'hire_date': '2013-07-03', 'annual_salary': '$135,578 ', 'bonus_percent': '10%', 'country': 'United States', 'city': 'Miami', 'exit_date': '2018-07-06'}\n",
      "Indexing document 40: {'employee_id': 'E02400', 'full_name': 'Jose Grant', 'job_title': 'Development Engineer', 'department': 'Engineering', 'business_unit': 'Corporate', 'gender': 'Male', 'ethnicity': 'Caucasian', 'age': 52, 'hire_date': '2021-06-28', 'annual_salary': '$94,857 ', 'bonus_percent': '0%', 'country': 'United States', 'city': 'Miami', 'exit_date': '2023-02-12'}\n",
      "Indexing document 41: {'employee_id': 'E02414', 'full_name': 'Owen Evans', 'job_title': 'Enterprise Architect', 'department': 'IT', 'business_unit': 'Manufacturing', 'gender': 'Male', 'ethnicity': 'Caucasian', 'age': 34, 'hire_date': '2021-05-28', 'annual_salary': '$68,972 ', 'bonus_percent': '0%', 'country': 'United States', 'city': 'Austin', 'exit_date': '2022-10-29'}\n",
      "Indexing document 42: {'employee_id': 'E02424', 'full_name': 'Thomas Smith', 'job_title': 'Field Engineer', 'department': 'Engineering', 'business_unit': 'Specialty Products', 'gender': 'Male', 'ethnicity': 'Caucasian', 'age': 57, 'hire_date': '1999-04-02', 'annual_salary': '$78,212 ', 'bonus_percent': '0%', 'country': 'United States', 'city': 'Miami', 'exit_date': '2010-09-05'}\n",
      "Indexing document 43: {'employee_id': 'E02425', 'full_name': 'Carter Hunter', 'job_title': 'Sr. Analyst', 'department': 'Accounting', 'business_unit': 'Corporate', 'gender': 'Male', 'ethnicity': 'Caucasian', 'age': 41, 'hire_date': '2019-10-07', 'annual_salary': '$72,650 ', 'bonus_percent': '0%', 'country': 'United States', 'city': 'Austin', 'exit_date': '2020-08-21'}\n",
      "Indexing document 44: {'employee_id': 'E02428', 'full_name': 'Hudson Hu', 'job_title': 'Automation Engineer', 'department': 'Engineering', 'business_unit': 'Research & Development', 'gender': 'Male', 'ethnicity': 'Asian', 'age': 36, 'hire_date': '2019-12-02', 'annual_salary': '$121,049 ', 'bonus_percent': '0%', 'country': 'United States', 'city': 'Seattle', 'exit_date': '2023-01-08'}\n",
      "Indexing document 45: {'employee_id': 'E02438', 'full_name': 'Hannah Brown', 'job_title': 'Cloud Infrastructure Architect', 'department': 'IT', 'business_unit': 'Manufacturing', 'gender': 'Female', 'ethnicity': 'Caucasian', 'age': 42, 'hire_date': '2020-07-12', 'annual_salary': '$79,764 ', 'bonus_percent': '0%', 'country': 'United States', 'city': 'Austin', 'exit_date': '2021-02-05'}\n",
      "Indexing document 46: {'employee_id': 'E02445', 'full_name': 'Isaac Choi', 'job_title': 'Operations Engineer', 'department': 'Engineering', 'business_unit': 'Corporate', 'gender': 'Male', 'ethnicity': 'Asian', 'age': 27, 'hire_date': '2021-01-21', 'annual_salary': '$82,286 ', 'bonus_percent': '0%', 'country': 'United States', 'city': 'Chicago', 'exit_date': '2022-11-02'}\n",
      "Indexing document 47: {'employee_id': 'E02446', 'full_name': 'Madeline Smith', 'job_title': 'Cloud Infrastructure Architect', 'department': 'IT', 'business_unit': 'Research & Development', 'gender': 'Female', 'ethnicity': 'Caucasian', 'age': 55, 'hire_date': '2011-11-23', 'annual_salary': '$66,660 ', 'bonus_percent': '0%', 'country': 'United States', 'city': 'Phoenix', 'exit_date': '2017-11-16'}\n",
      "Indexing document 48: {'employee_id': 'E02448', 'full_name': 'Lyla Lai', 'job_title': 'Manager', 'department': 'Human Resources', 'business_unit': 'Specialty Products', 'gender': 'Female', 'ethnicity': 'Asian', 'age': 46, 'hire_date': '2004-08-11', 'annual_salary': '$125,878 ', 'bonus_percent': '10%', 'country': 'United States', 'city': 'Austin', 'exit_date': '2009-01-29'}\n",
      "Indexing document 49: {'employee_id': 'E02450', 'full_name': 'Aubrey Moreno', 'job_title': 'Computer Systems Manager', 'department': 'IT', 'business_unit': 'Research & Development', 'gender': 'Female', 'ethnicity': 'Latino', 'age': 57, 'hire_date': '2000-06-30', 'annual_salary': '$97,083 ', 'bonus_percent': '6%', 'country': 'United States', 'city': 'Austin', 'exit_date': '2008-11-26'}\n",
      "Indexing document 50: {'employee_id': 'E02453', 'full_name': 'Caroline Chau', 'job_title': 'IT Systems Architect', 'department': 'IT', 'business_unit': 'Specialty Products', 'gender': 'Female', 'ethnicity': 'Asian', 'age': 55, 'hire_date': '2022-12-07', 'annual_salary': '$91,179 ', 'bonus_percent': '0%', 'country': 'United States', 'city': 'Columbus', 'exit_date': '2023-02-01'}\n",
      "Indexing document 51: {'employee_id': 'E02497', 'full_name': 'Vivian Chan', 'job_title': 'Sr. Analyst', 'department': 'Sales', 'business_unit': 'Specialty Products', 'gender': 'Female', 'ethnicity': 'Asian', 'age': 61, 'hire_date': '1997-05-12', 'annual_salary': '$72,546 ', 'bonus_percent': '0%', 'country': 'China', 'city': 'Beijing', 'exit_date': '2021-03-29'}\n",
      "Indexing document 52: {'employee_id': 'E02500', 'full_name': 'Leilani Hong', 'job_title': 'System Administrator\\xa0', 'department': 'IT', 'business_unit': 'Manufacturing', 'gender': 'Female', 'ethnicity': 'Asian', 'age': 36, 'hire_date': '2013-12-20', 'annual_salary': '$79,876 ', 'bonus_percent': '0%', 'country': 'United States', 'city': 'Seattle', 'exit_date': '2023-02-02'}\n",
      "Indexing document 53: {'employee_id': 'E02503', 'full_name': 'Scarlett Howard', 'job_title': 'Manager', 'department': 'Finance', 'business_unit': 'Manufacturing', 'gender': 'Female', 'ethnicity': 'Caucasian', 'age': 55, 'hire_date': '2012-08-12', 'annual_salary': '$117,421 ', 'bonus_percent': '5%', 'country': 'United States', 'city': 'Austin', 'exit_date': '2017-08-28'}\n",
      "Indexing document 54: {'employee_id': 'E02520', 'full_name': 'Eli James', 'job_title': 'Network Engineer', 'department': 'IT', 'business_unit': 'Manufacturing', 'gender': 'Male', 'ethnicity': 'Caucasian', 'age': 32, 'hire_date': '2021-04-15', 'annual_salary': '$86,523 ', 'bonus_percent': '0%', 'country': 'United States', 'city': 'Columbus', 'exit_date': '2021-11-07'}\n",
      "Indexing document 55: {'employee_id': 'E02529', 'full_name': 'Charles Bryant', 'job_title': 'Analyst', 'department': 'Sales', 'business_unit': 'Manufacturing', 'gender': 'Male', 'ethnicity': 'Caucasian', 'age': 27, 'hire_date': '2022-07-12', 'annual_salary': '$56,919 ', 'bonus_percent': '0%', 'country': 'United States', 'city': 'Miami', 'exit_date': '2023-01-10'}\n",
      "Indexing document 56: {'employee_id': 'E02541', 'full_name': 'Jameson Vang', 'job_title': 'Computer Systems Manager', 'department': 'IT', 'business_unit': 'Corporate', 'gender': 'Male', 'ethnicity': 'Asian', 'age': 41, 'hire_date': '2018-05-23', 'annual_salary': '$95,669 ', 'bonus_percent': '10%', 'country': 'China', 'city': 'Shanghai', 'exit_date': '2021-06-09'}\n",
      "Indexing document 57: {'employee_id': 'E02549', 'full_name': 'Layla Munoz', 'job_title': 'Director', 'department': 'Human Resources', 'business_unit': 'Corporate', 'gender': 'Female', 'ethnicity': 'Latino', 'age': 39, 'hire_date': '2014-09-24', 'annual_salary': '$182,595 ', 'bonus_percent': '29%', 'country': 'Brazil', 'city': 'Rio de Janeiro', 'exit_date': '2017-09-14'}\n",
      "Indexing document 58: {'employee_id': 'E02553', 'full_name': 'Ayla Cooper', 'job_title': 'Operations Engineer', 'department': 'Engineering', 'business_unit': 'Corporate', 'gender': 'Female', 'ethnicity': 'Caucasian', 'age': 56, 'hire_date': '2017-02-15', 'annual_salary': '$101,637 ', 'bonus_percent': '0%', 'country': 'United States', 'city': 'Chicago', 'exit_date': '2019-12-26'}\n",
      "Indexing document 59: {'employee_id': 'E02562', 'full_name': 'Piper Hsu', 'job_title': 'Analyst', 'department': 'Accounting', 'business_unit': 'Research & Development', 'gender': 'Female', 'ethnicity': 'Asian', 'age': 45, 'hire_date': '2015-08-23', 'annual_salary': '$48,491 ', 'bonus_percent': '0%', 'country': 'United States', 'city': 'Austin', 'exit_date': '2015-10-08'}\n",
      "Indexing document 60: {'employee_id': 'E02564', 'full_name': 'Addison Li', 'job_title': 'HRIS Analyst', 'department': 'Human Resources', 'business_unit': 'Research & Development', 'gender': 'Female', 'ethnicity': 'Asian', 'age': 37, 'hire_date': '2010-03-04', 'annual_salary': '$61,680 ', 'bonus_percent': '0%', 'country': 'China', 'city': 'Beijing', 'exit_date': '2015-06-04'}\n",
      "Indexing document 61: {'employee_id': 'E02567', 'full_name': 'Caleb Rojas', 'job_title': 'Analyst II', 'department': 'Sales', 'business_unit': 'Manufacturing', 'gender': 'Male', 'ethnicity': 'Latino', 'age': 38, 'hire_date': '2021-12-04', 'annual_salary': '$68,281 ', 'bonus_percent': '0%', 'country': 'United States', 'city': 'Miami', 'exit_date': '2022-03-09'}\n",
      "Indexing document 62: {'employee_id': 'E02572', 'full_name': 'Ryan Foster', 'job_title': 'IT Coordinator', 'department': 'IT', 'business_unit': 'Specialty Products', 'gender': 'Male', 'ethnicity': 'Caucasian', 'age': 44, 'hire_date': '2004-02-22', 'annual_salary': '$41,275 ', 'bonus_percent': '0%', 'country': 'United States', 'city': 'Austin', 'exit_date': '2007-06-14'}\n",
      "Indexing document 63: {'employee_id': 'E02577', 'full_name': 'Hudson Washington', 'job_title': 'Cloud Infrastructure Architect', 'department': 'IT', 'business_unit': 'Specialty Products', 'gender': 'Male', 'ethnicity': 'Caucasian', 'age': 43, 'hire_date': '2008-09-17', 'annual_salary': '$76,819 ', 'bonus_percent': '0%', 'country': 'United States', 'city': 'Phoenix', 'exit_date': '2022-10-20'}\n",
      "Indexing document 64: {'employee_id': 'E02593', 'full_name': 'Samantha Zhu', 'job_title': 'Vice President', 'department': 'IT', 'business_unit': 'Specialty Products', 'gender': 'Female', 'ethnicity': 'Asian', 'age': 55, 'hire_date': '2001-10-27', 'annual_salary': '$256,592 ', 'bonus_percent': '30%', 'country': 'China', 'city': 'Beijing', 'exit_date': '2010-05-19'}\n",
      "Indexing document 65: {'employee_id': 'E02608', 'full_name': 'Aiden Cheng', 'job_title': 'Vice President', 'department': 'Marketing', 'business_unit': 'Manufacturing', 'gender': 'Male', 'ethnicity': 'Asian', 'age': 31, 'hire_date': '2019-09-06', 'annual_salary': '$189,403 ', 'bonus_percent': '36%', 'country': 'China', 'city': 'Shanghai', 'exit_date': '2021-03-31'}\n",
      "Indexing document 66: {'employee_id': 'E02609', 'full_name': 'Willow Vang', 'job_title': 'Sr. Analyst', 'department': 'Accounting', 'business_unit': 'Manufacturing', 'gender': 'Female', 'ethnicity': 'Asian', 'age': 31, 'hire_date': '2018-05-18', 'annual_salary': '$78,732 ', 'bonus_percent': '0%', 'country': 'China', 'city': 'Shanghai', 'exit_date': '2019-03-11'}\n",
      "Indexing document 67: {'employee_id': 'E02626', 'full_name': 'Luke Acosta', 'job_title': 'Network Architect', 'department': 'IT', 'business_unit': 'Specialty Products', 'gender': 'Male', 'ethnicity': 'Latino', 'age': 57, 'hire_date': '2022-07-20', 'annual_salary': '$93,872 ', 'bonus_percent': '0%', 'country': 'Brazil', 'city': 'Sao Paulo', 'exit_date': '2022-12-07'}\n",
      "Indexing document 68: {'employee_id': 'E02627', 'full_name': 'Sophia Griffin', 'job_title': 'Vice President', 'department': 'Marketing', 'business_unit': 'Specialty Products', 'gender': 'Female', 'ethnicity': 'Caucasian', 'age': 50, 'hire_date': '2018-06-29', 'annual_salary': '$181,570 ', 'bonus_percent': '35%', 'country': 'United States', 'city': 'Miami', 'exit_date': '2021-10-21'}\n",
      "Indexing document 69: {'employee_id': 'E02638', 'full_name': 'Theodore Truong', 'job_title': 'HRIS Analyst', 'department': 'Human Resources', 'business_unit': 'Corporate', 'gender': 'Male', 'ethnicity': 'Asian', 'age': 45, 'hire_date': '2017-05-23', 'annual_salary': '$66,324 ', 'bonus_percent': '0%', 'country': 'China', 'city': 'Beijing', 'exit_date': '2021-09-10'}\n",
      "Indexing document 70: {'employee_id': 'E02642', 'full_name': 'Zoey Lu', 'job_title': 'Vice President', 'department': 'Marketing', 'business_unit': 'Manufacturing', 'gender': 'Female', 'ethnicity': 'Asian', 'age': 45, 'hire_date': '2007-10-31', 'annual_salary': '$216,269 ', 'bonus_percent': '37%', 'country': 'United States', 'city': 'Chicago', 'exit_date': '2010-12-31'}\n",
      "Indexing document 71: {'employee_id': 'E02650', 'full_name': 'Jonathan Torres', 'job_title': 'Analyst', 'department': 'Finance', 'business_unit': 'Manufacturing', 'gender': 'Male', 'ethnicity': 'Latino', 'age': 56, 'hire_date': '2002-04-12', 'annual_salary': '$48,896 ', 'bonus_percent': '0%', 'country': 'Brazil', 'city': 'Manaus', 'exit_date': '2017-03-14'}\n",
      "Indexing document 72: {'employee_id': 'E02651', 'full_name': 'Samuel Xu', 'job_title': 'Quality Engineer', 'department': 'Engineering', 'business_unit': 'Research & Development', 'gender': 'Male', 'ethnicity': 'Asian', 'age': 32, 'hire_date': '2019-09-20', 'annual_salary': '$82,887 ', 'bonus_percent': '0%', 'country': 'China', 'city': 'Chengdu', 'exit_date': '2020-01-17'}\n",
      "Indexing document 73: {'employee_id': 'E02658', 'full_name': 'Madeline Guerrero', 'job_title': 'Quality Engineer', 'department': 'Engineering', 'business_unit': 'Corporate', 'gender': 'Female', 'ethnicity': 'Latino', 'age': 27, 'hire_date': '2020-08-16', 'annual_salary': '$61,693 ', 'bonus_percent': '0%', 'country': 'Brazil', 'city': 'Sao Paulo', 'exit_date': '2020-11-23'}\n",
      "Indexing document 74: {'employee_id': 'E02667', 'full_name': 'Jacob Cooper', 'job_title': 'Solutions Architect', 'department': 'IT', 'business_unit': 'Research & Development', 'gender': 'Male', 'ethnicity': 'Caucasian', 'age': 64, 'hire_date': '2018-05-18', 'annual_salary': '$87,521 ', 'bonus_percent': '0%', 'country': 'United States', 'city': 'Seattle', 'exit_date': '2021-06-10'}\n",
      "Indexing document 75: {'employee_id': 'E02678', 'full_name': 'Natalia Hall', 'job_title': 'Analyst II', 'department': 'Accounting', 'business_unit': 'Research & Development', 'gender': 'Female', 'ethnicity': 'Caucasian', 'age': 37, 'hire_date': '2018-11-08', 'annual_salary': '$72,005 ', 'bonus_percent': '0%', 'country': 'United States', 'city': 'Austin', 'exit_date': '2021-07-27'}\n",
      "Indexing document 76: {'employee_id': 'E02681', 'full_name': 'Jacob Alexander', 'job_title': 'Business Partner', 'department': 'Human Resources', 'business_unit': 'Specialty Products', 'gender': 'Male', 'ethnicity': 'Caucasian', 'age': 45, 'hire_date': '2001-03-19', 'annual_salary': '$50,393 ', 'bonus_percent': '0%', 'country': 'United States', 'city': 'Miami', 'exit_date': '2011-06-17'}\n",
      "Indexing document 77: {'employee_id': 'E02683', 'full_name': 'Vivian Jackson', 'job_title': 'Sr. Manager', 'department': 'Accounting', 'business_unit': 'Corporate', 'gender': 'Female', 'ethnicity': 'Black', 'age': 51, 'hire_date': '1999-02-23', 'annual_salary': '$148,942 ', 'bonus_percent': '13%', 'country': 'United States', 'city': 'Columbus', 'exit_date': '2007-07-16'}\n",
      "Indexing document 78: {'employee_id': 'E02684', 'full_name': 'Leonardo Jenkins', 'job_title': 'Service Desk Analyst', 'department': 'IT', 'business_unit': 'Research & Development', 'gender': 'Male', 'ethnicity': 'Caucasian', 'age': 29, 'hire_date': '2018-04-09', 'annual_salary': '$98,504 ', 'bonus_percent': '0%', 'country': 'United States', 'city': 'Miami', 'exit_date': '2022-07-12'}\n",
      "Indexing document 79: {'employee_id': 'E02688', 'full_name': 'Kai Shin', 'job_title': 'Sr. Analyst', 'department': 'Sales', 'business_unit': 'Specialty Products', 'gender': 'Male', 'ethnicity': 'Asian', 'age': 49, 'hire_date': '2015-09-13', 'annual_salary': '$91,121 ', 'bonus_percent': '0%', 'country': 'United States', 'city': 'Seattle', 'exit_date': '2019-12-23'}\n",
      "Indexing document 80: {'employee_id': 'E02690', 'full_name': 'Aiden Carter', 'job_title': 'Network Architect', 'department': 'IT', 'business_unit': 'Manufacturing', 'gender': 'Male', 'ethnicity': 'Caucasian', 'age': 32, 'hire_date': '2021-03-05', 'annual_salary': '$71,674 ', 'bonus_percent': '0%', 'country': 'United States', 'city': 'Chicago', 'exit_date': '2021-06-17'}\n",
      "Indexing document 81: {'employee_id': 'E02700', 'full_name': 'John Richardson', 'job_title': 'Computer Systems Manager', 'department': 'IT', 'business_unit': 'Manufacturing', 'gender': 'Male', 'ethnicity': 'Caucasian', 'age': 34, 'hire_date': '2014-12-29', 'annual_salary': '$77,024 ', 'bonus_percent': '9%', 'country': 'United States', 'city': 'Phoenix', 'exit_date': '2021-10-23'}\n",
      "Indexing document 82: {'employee_id': 'E02719', 'full_name': 'Colton Mejia', 'job_title': 'Sr. Manager', 'department': 'Accounting', 'business_unit': 'Research & Development', 'gender': 'Male', 'ethnicity': 'Latino', 'age': 28, 'hire_date': '2019-04-26', 'annual_salary': '$141,675 ', 'bonus_percent': '12%', 'country': 'Brazil', 'city': 'Rio de Janeiro', 'exit_date': '2020-09-24'}\n",
      "Indexing document 83: {'employee_id': 'E02722', 'full_name': 'Vivian Brooks', 'job_title': 'Business Partner', 'department': 'Human Resources', 'business_unit': 'Specialty Products', 'gender': 'Female', 'ethnicity': 'Black', 'age': 34, 'hire_date': '2022-09-12', 'annual_salary': '$57,483 ', 'bonus_percent': '0%', 'country': 'United States', 'city': 'Seattle', 'exit_date': '2022-11-18'}\n",
      "Indexing document 84: {'employee_id': 'E02735', 'full_name': 'Logan Brooks', 'job_title': 'Director', 'department': 'IT', 'business_unit': 'Corporate', 'gender': 'Male', 'ethnicity': 'Caucasian', 'age': 28, 'hire_date': '2020-05-07', 'annual_salary': '$178,300 ', 'bonus_percent': '24%', 'country': 'United States', 'city': 'Austin', 'exit_date': '2023-01-25'}\n",
      "Indexing document 85: {'employee_id': 'E02753', 'full_name': 'Gabriel Cheung', 'job_title': 'Analyst', 'department': 'Finance', 'business_unit': 'Specialty Products', 'gender': 'Male', 'ethnicity': 'Asian', 'age': 64, 'hire_date': '2016-11-29', 'annual_salary': '$43,785 ', 'bonus_percent': '0%', 'country': 'China', 'city': 'Chongqing', 'exit_date': '2018-06-26'}\n",
      "Indexing document 86: {'employee_id': 'E02758', 'full_name': 'Sadie Pham', 'job_title': 'Analyst II', 'department': 'Finance', 'business_unit': 'Specialty Products', 'gender': 'Female', 'ethnicity': 'Asian', 'age': 26, 'hire_date': '2022-12-25', 'annual_salary': '$66,563 ', 'bonus_percent': '0%', 'country': 'China', 'city': 'Chengdu', 'exit_date': '2023-01-25'}\n",
      "Indexing document 87: {'employee_id': 'E02770', 'full_name': 'Iris Bailey', 'job_title': 'IT Coordinator', 'department': 'IT', 'business_unit': 'Research & Development', 'gender': 'Female', 'ethnicity': 'Caucasian', 'age': 26, 'hire_date': '2020-02-18', 'annual_salary': '$42,343 ', 'bonus_percent': '0%', 'country': 'United States', 'city': 'Miami', 'exit_date': '2020-06-02'}\n",
      "Indexing document 88: {'employee_id': 'E02776', 'full_name': 'Caroline Sandoval', 'job_title': 'Manager', 'department': 'Finance', 'business_unit': 'Specialty Products', 'gender': 'Female', 'ethnicity': 'Latino', 'age': 51, 'hire_date': '2012-09-10', 'annual_salary': '$129,727 ', 'bonus_percent': '8%', 'country': 'United States', 'city': 'Phoenix', 'exit_date': '2021-10-07'}\n",
      "Indexing document 89: {'employee_id': 'E02848', 'full_name': 'Clara Collins', 'job_title': 'Network Engineer', 'department': 'IT', 'business_unit': 'Manufacturing', 'gender': 'Female', 'ethnicity': 'Caucasian', 'age': 40, 'hire_date': '2008-03-03', 'annual_salary': '$63,889 ', 'bonus_percent': '0%', 'country': 'United States', 'city': 'Seattle', 'exit_date': '2022-10-17'}\n",
      "Indexing document 90: {'employee_id': 'E02851', 'full_name': 'Piper Evans', 'job_title': 'Computer Systems Manager', 'department': 'IT', 'business_unit': 'Specialty Products', 'gender': 'Female', 'ethnicity': 'Caucasian', 'age': 52, 'hire_date': '2014-01-28', 'annual_salary': '$89,379 ', 'bonus_percent': '10%', 'country': 'United States', 'city': 'Seattle', 'exit_date': '2022-06-11'}\n",
      "Indexing document 91: {'employee_id': 'E02878', 'full_name': 'Logan Ortega', 'job_title': 'Analyst II', 'department': 'Marketing', 'business_unit': 'Manufacturing', 'gender': 'Male', 'ethnicity': 'Latino', 'age': 31, 'hire_date': '2020-05-19', 'annual_salary': '$64,234 ', 'bonus_percent': '0%', 'country': 'United States', 'city': 'Seattle', 'exit_date': '2021-11-11'}\n",
      "Indexing document 92: {'employee_id': 'E02253', 'full_name': 'Leilani Ng', 'job_title': 'Systems Analyst', 'department': 'IT', 'business_unit': 'Corporate', 'gender': 'Female', 'ethnicity': 'Asian', 'age': 48, 'hire_date': '2011-09-19', 'annual_salary': '$50,513 ', 'bonus_percent': '0%', 'country': 'United States', 'city': 'Seattle', 'exit_date': '2019-10-30'}\n",
      "Indexing document 93: {'employee_id': 'E02567', 'full_name': 'Caleb Rojas', 'job_title': 'Analyst II', 'department': 'Sales', 'business_unit': 'Manufacturing', 'gender': 'Male', 'ethnicity': 'Latino', 'age': 38, 'hire_date': '2021-12-04', 'annual_salary': '$68,281 ', 'bonus_percent': '0%', 'country': 'United States', 'city': 'Miami', 'exit_date': '2022-03-09'}\n",
      "Indexing document 94: {'employee_id': 'E02572', 'full_name': 'Ryan Foster', 'job_title': 'IT Coordinator', 'department': 'IT', 'business_unit': 'Specialty Products', 'gender': 'Male', 'ethnicity': 'Caucasian', 'age': 44, 'hire_date': '2004-02-22', 'annual_salary': '$41,275 ', 'bonus_percent': '0%', 'country': 'United States', 'city': 'Austin', 'exit_date': '2007-06-14'}\n",
      "Indexing document 95: {'employee_id': 'E02500', 'full_name': 'Leilani Hong', 'job_title': 'System Administrator\\xa0', 'department': 'IT', 'business_unit': 'Manufacturing', 'gender': 'Female', 'ethnicity': 'Asian', 'age': 36, 'hire_date': '2013-12-20', 'annual_salary': '$79,876 ', 'bonus_percent': '0%', 'country': 'United States', 'city': 'Seattle', 'exit_date': '2023-02-02'}\n",
      "Indexing document 96: {'employee_id': 'E02503', 'full_name': 'Scarlett Howard', 'job_title': 'Manager', 'department': 'Finance', 'business_unit': 'Manufacturing', 'gender': 'Female', 'ethnicity': 'Caucasian', 'age': 55, 'hire_date': '2012-08-12', 'annual_salary': '$117,421 ', 'bonus_percent': '5%', 'country': 'United States', 'city': 'Austin', 'exit_date': '2017-08-28'}\n",
      "Indexing document 97: {'employee_id': 'E02202', 'full_name': 'Charles Ramos', 'job_title': 'Sr. Analyst', 'department': 'Accounting', 'business_unit': 'Corporate', 'gender': 'Male', 'ethnicity': 'Latino', 'age': 57, 'hire_date': '2010-04-04', 'annual_salary': '$74,597 ', 'bonus_percent': '0%', 'country': 'United States', 'city': 'Austin', 'exit_date': '2016-01-30'}\n",
      "Indexing document 98: {'employee_id': 'E02023', 'full_name': 'Lillian Lewis', 'job_title': 'Technical Architect', 'department': 'IT', 'business_unit': 'Research & Development', 'gender': 'Female', 'ethnicity': 'Black', 'age': 43, 'hire_date': '2013-08-14', 'annual_salary': '$83,323 ', 'bonus_percent': '0%', 'country': 'United States', 'city': 'Phoenix', 'exit_date': '2019-03-31'}\n",
      "Indexing document 99: {'employee_id': 'E02236', 'full_name': 'Jack Perez', 'job_title': 'Cloud Infrastructure Architect', 'department': 'IT', 'business_unit': 'Research & Development', 'gender': 'Male', 'ethnicity': 'Latino', 'age': 30, 'hire_date': '2017-01-09', 'annual_salary': '$80,389 ', 'bonus_percent': '0%', 'country': 'Brazil', 'city': 'Manaus', 'exit_date': '2017-09-10'}\n",
      "Indexing document 100: {'employee_id': 'E02244', 'full_name': 'Connor Howard', 'job_title': 'Systems Analyst', 'department': 'IT', 'business_unit': 'Specialty Products', 'gender': 'Male', 'ethnicity': 'Caucasian', 'age': 42, 'hire_date': '2021-03-15', 'annual_salary': '$44,265 ', 'bonus_percent': '0%', 'country': 'United States', 'city': 'Austin', 'exit_date': '2022-06-27'}\n",
      "Indexing document 101: {'employee_id': 'E02253', 'full_name': 'Leilani Ng', 'job_title': 'Systems Analyst', 'department': 'IT', 'business_unit': 'Corporate', 'gender': 'Female', 'ethnicity': 'Asian', 'age': 48, 'hire_date': '2011-09-19', 'annual_salary': '$50,513 ', 'bonus_percent': '0%', 'country': 'United States', 'city': 'Seattle', 'exit_date': '2019-10-30'}\n",
      "Indexing document 0: {'employee_id': 'E02007', 'full_name': 'Ezra Vu', 'job_title': 'Network Administrator', 'department': 'IT', 'business_unit': 'Manufacturing', 'gender': 'Male', 'ethnicity': 'Asian', 'age': 62, 'hire_date': '2004-04-22', 'annual_salary': '$66,227 ', 'bonus_percent': '0%', 'country': 'United States', 'city': 'Phoenix', 'exit_date': '2014-02-14'}\n",
      "Indexing document 1: {'employee_id': 'E02023', 'full_name': 'Lillian Lewis', 'job_title': 'Technical Architect', 'department': 'IT', 'business_unit': 'Research & Development', 'gender': 'Female', 'ethnicity': 'Black', 'age': 43, 'hire_date': '2013-08-14', 'annual_salary': '$83,323 ', 'bonus_percent': '0%', 'country': 'United States', 'city': 'Phoenix', 'exit_date': '2019-03-31'}\n",
      "Indexing document 2: {'employee_id': 'E02038', 'full_name': 'Amelia Dominguez', 'job_title': 'Sr. Manager', 'department': 'Accounting', 'business_unit': 'Corporate', 'gender': 'Female', 'ethnicity': 'Latino', 'age': 31, 'hire_date': '2015-09-23', 'annual_salary': '$158,184 ', 'bonus_percent': '15%', 'country': 'Brazil', 'city': 'Rio de Janeiro', 'exit_date': '2018-07-27'}\n",
      "Indexing document 3: {'employee_id': 'E02043', 'full_name': 'Gianna Jones', 'job_title': 'Manager', 'department': 'Accounting', 'business_unit': 'Research & Development', 'gender': 'Female', 'ethnicity': 'Caucasian', 'age': 48, 'hire_date': '1998-09-26', 'annual_salary': '$119,220 ', 'bonus_percent': '9%', 'country': 'United States', 'city': 'Columbus', 'exit_date': '2016-11-02'}\n",
      "Indexing document 4: {'employee_id': 'E02060', 'full_name': 'Jacob Cheng', 'job_title': 'Director', 'department': 'Sales', 'business_unit': 'Manufacturing', 'gender': 'Male', 'ethnicity': 'Asian', 'age': 47, 'hire_date': '1999-11-26', 'annual_salary': '$155,890 ', 'bonus_percent': '17%', 'country': 'United States', 'city': 'Columbus', 'exit_date': '2003-11-27'}\n",
      "Indexing document 5: {'employee_id': 'E02083', 'full_name': 'Penelope Chan', 'job_title': 'Analyst II', 'department': 'Accounting', 'business_unit': 'Manufacturing', 'gender': 'Female', 'ethnicity': 'Asian', 'age': 59, 'hire_date': '2012-05-20', 'annual_salary': '$57,704 ', 'bonus_percent': '0%', 'country': 'China', 'city': 'Shanghai', 'exit_date': '2019-11-21'}\n",
      "Indexing document 6: {'employee_id': 'E02091', 'full_name': 'Lucy Edwards', 'job_title': 'Director', 'department': 'Human Resources', 'business_unit': 'Specialty Products', 'gender': 'Female', 'ethnicity': 'Black', 'age': 33, 'hire_date': '2015-03-16', 'annual_salary': '$175,875 ', 'bonus_percent': '21%', 'country': 'United States', 'city': 'Columbus', 'exit_date': '2022-05-16'}\n",
      "Indexing document 7: {'employee_id': 'E02105', 'full_name': 'Ezekiel Brown', 'job_title': 'Manager', 'department': 'Finance', 'business_unit': 'Corporate', 'gender': 'Male', 'ethnicity': 'Caucasian', 'age': 27, 'hire_date': '2022-03-14', 'annual_salary': '$120,315 ', 'bonus_percent': '8%', 'country': 'United States', 'city': 'Miami', 'exit_date': '2022-07-17'}\n",
      "Indexing document 8: {'employee_id': 'E02113', 'full_name': 'Roman Liang', 'job_title': 'Sr. Analyst', 'department': 'Sales', 'business_unit': 'Manufacturing', 'gender': 'Male', 'ethnicity': 'Asian', 'age': 28, 'hire_date': '2021-03-04', 'annual_salary': '$85,206 ', 'bonus_percent': '0%', 'country': 'China', 'city': 'Chongqing', 'exit_date': '2022-07-08'}\n",
      "Indexing document 9: {'employee_id': 'E02163', 'full_name': 'Sarah Johnson', 'job_title': 'Director', 'department': 'Engineering', 'business_unit': 'Research & Development', 'gender': 'Female', 'ethnicity': 'Caucasian', 'age': 31, 'hire_date': '2018-03-06', 'annual_salary': '$150,653 ', 'bonus_percent': '24%', 'country': 'United States', 'city': 'Austin', 'exit_date': '2019-09-01'}\n",
      "Indexing document 10: {'employee_id': 'E02167', 'full_name': 'Nolan Howard', 'job_title': 'Quality Engineer', 'department': 'Engineering', 'business_unit': 'Research & Development', 'gender': 'Male', 'ethnicity': 'Caucasian', 'age': 26, 'hire_date': '2022-04-18', 'annual_salary': '$82,963 ', 'bonus_percent': '0%', 'country': 'United States', 'city': 'Austin', 'exit_date': '2022-06-23'}\n",
      "Indexing document 11: {'employee_id': 'E02173', 'full_name': 'Zoey Leung', 'job_title': 'Network Administrator', 'department': 'IT', 'business_unit': 'Research & Development', 'gender': 'Female', 'ethnicity': 'Asian', 'age': 40, 'hire_date': '2007-09-27', 'annual_salary': '$77,637 ', 'bonus_percent': '0%', 'country': 'China', 'city': 'Chongqing', 'exit_date': '2017-02-04'}\n",
      "Indexing document 12: {'employee_id': 'E02175', 'full_name': 'Christopher Robinson', 'job_title': 'Vice President', 'department': 'Finance', 'business_unit': 'Specialty Products', 'gender': 'Male', 'ethnicity': 'Caucasian', 'age': 35, 'hire_date': '2016-07-11', 'annual_salary': '$254,287 ', 'bonus_percent': '31%', 'country': 'United States', 'city': 'Austin', 'exit_date': '2022-10-17'}\n",
      "Indexing document 13: {'employee_id': 'E02183', 'full_name': 'Madeline Chung', 'job_title': 'Analyst', 'department': 'Finance', 'business_unit': 'Research & Development', 'gender': 'Female', 'ethnicity': 'Asian', 'age': 63, 'hire_date': '2011-05-26', 'annual_salary': '$44,444 ', 'bonus_percent': '0%', 'country': 'United States', 'city': 'Miami', 'exit_date': '2015-07-12'}\n",
      "Indexing document 14: {'employee_id': 'E02184', 'full_name': 'Ariana Sharma', 'job_title': 'Vice President', 'department': 'Sales', 'business_unit': 'Research & Development', 'gender': 'Female', 'ethnicity': 'Asian', 'age': 45, 'hire_date': '2014-01-24', 'annual_salary': '$257,725 ', 'bonus_percent': '34%', 'country': 'United States', 'city': 'Seattle', 'exit_date': '2022-06-29'}\n",
      "Indexing document 15: {'employee_id': 'E02186', 'full_name': 'Logan Reyes', 'job_title': 'Quality Engineer', 'department': 'Engineering', 'business_unit': 'Corporate', 'gender': 'Male', 'ethnicity': 'Latino', 'age': 62, 'hire_date': '1995-04-10', 'annual_salary': '$78,251 ', 'bonus_percent': '0%', 'country': 'Brazil', 'city': 'Sao Paulo', 'exit_date': '2020-03-19'}\n",
      "Indexing document 16: {'employee_id': 'E02202', 'full_name': 'Charles Ramos', 'job_title': 'Sr. Analyst', 'department': 'Accounting', 'business_unit': 'Corporate', 'gender': 'Male', 'ethnicity': 'Latino', 'age': 57, 'hire_date': '2010-04-04', 'annual_salary': '$74,597 ', 'bonus_percent': '0%', 'country': 'United States', 'city': 'Austin', 'exit_date': '2016-01-30'}\n",
      "Indexing document 17: {'employee_id': 'E02210', 'full_name': 'Liliana Collins', 'job_title': 'Sr. Manager', 'department': 'Human Resources', 'business_unit': 'Specialty Products', 'gender': 'Female', 'ethnicity': 'Black', 'age': 39, 'hire_date': '2013-01-18', 'annual_salary': '$151,666 ', 'bonus_percent': '13%', 'country': 'United States', 'city': 'Chicago', 'exit_date': '2018-06-30'}\n",
      "Indexing document 18: {'employee_id': 'E02219', 'full_name': 'Iris Chung', 'job_title': 'Manager', 'department': 'IT', 'business_unit': 'Research & Development', 'gender': 'Female', 'ethnicity': 'Asian', 'age': 52, 'hire_date': '2013-03-12', 'annual_salary': '$128,301 ', 'bonus_percent': '6%', 'country': 'China', 'city': 'Beijing', 'exit_date': '2021-09-17'}\n",
      "Indexing document 19: {'employee_id': 'E02220', 'full_name': 'Thomas Rodriguez', 'job_title': 'Analyst', 'department': 'Finance', 'business_unit': 'Manufacturing', 'gender': 'Male', 'ethnicity': 'Latino', 'age': 36, 'hire_date': '2019-10-09', 'annual_salary': '$51,669 ', 'bonus_percent': '0%', 'country': 'Brazil', 'city': 'Rio de Janeiro', 'exit_date': '2022-09-29'}\n",
      "Indexing document 20: {'employee_id': 'E02230', 'full_name': 'Nolan Brooks', 'job_title': 'Business Partner', 'department': 'Human Resources', 'business_unit': 'Manufacturing', 'gender': 'Male', 'ethnicity': 'Caucasian', 'age': 40, 'hire_date': '2014-11-08', 'annual_salary': '$49,342 ', 'bonus_percent': '0%', 'country': 'United States', 'city': 'Seattle', 'exit_date': '2019-08-27'}\n",
      "Indexing document 21: {'employee_id': 'E02236', 'full_name': 'Jack Perez', 'job_title': 'Cloud Infrastructure Architect', 'department': 'IT', 'business_unit': 'Research & Development', 'gender': 'Male', 'ethnicity': 'Latino', 'age': 30, 'hire_date': '2017-01-09', 'annual_salary': '$80,389 ', 'bonus_percent': '0%', 'country': 'Brazil', 'city': 'Manaus', 'exit_date': '2017-09-10'}\n",
      "Indexing document 22: {'employee_id': 'E02244', 'full_name': 'Connor Howard', 'job_title': 'Systems Analyst', 'department': 'IT', 'business_unit': 'Specialty Products', 'gender': 'Male', 'ethnicity': 'Caucasian', 'age': 42, 'hire_date': '2021-03-15', 'annual_salary': '$44,265 ', 'bonus_percent': '0%', 'country': 'United States', 'city': 'Austin', 'exit_date': '2022-06-27'}\n",
      "Indexing document 23: {'employee_id': 'E02253', 'full_name': 'Leilani Ng', 'job_title': 'Systems Analyst', 'department': 'IT', 'business_unit': 'Corporate', 'gender': 'Female', 'ethnicity': 'Asian', 'age': 48, 'hire_date': '2011-09-19', 'annual_salary': '$50,513 ', 'bonus_percent': '0%', 'country': 'United States', 'city': 'Seattle', 'exit_date': '2019-10-30'}\n",
      "Indexing document 24: {'employee_id': 'E02262', 'full_name': 'Carson Mai', 'job_title': 'Vice President', 'department': 'Accounting', 'business_unit': 'Corporate', 'gender': 'Male', 'ethnicity': 'Asian', 'age': 50, 'hire_date': '1996-04-15', 'annual_salary': '$245,920 ', 'bonus_percent': '36%', 'country': 'United States', 'city': 'Columbus', 'exit_date': '1996-05-16'}\n",
      "Indexing document 25: {'employee_id': 'E02270', 'full_name': 'Ava Carrillo', 'job_title': 'Sr. Manager', 'department': 'Accounting', 'business_unit': 'Specialty Products', 'gender': 'Female', 'ethnicity': 'Latino', 'age': 63, 'hire_date': '1999-01-01', 'annual_salary': '$149,582 ', 'bonus_percent': '14%', 'country': 'United States', 'city': 'Seattle', 'exit_date': '2021-03-03'}\n",
      "Indexing document 26: {'employee_id': 'E02288', 'full_name': 'Christopher Vu', 'job_title': 'Computer Systems Manager', 'department': 'IT', 'business_unit': 'Corporate', 'gender': 'Male', 'ethnicity': 'Asian', 'age': 47, 'hire_date': '2002-03-16', 'annual_salary': '$88,839 ', 'bonus_percent': '5%', 'country': 'United States', 'city': 'Phoenix', 'exit_date': '2014-10-28'}\n",
      "Indexing document 27: {'employee_id': 'E02292', 'full_name': 'Lily Molina', 'job_title': 'Manager', 'department': 'IT', 'business_unit': 'Manufacturing', 'gender': 'Female', 'ethnicity': 'Latino', 'age': 40, 'hire_date': '2009-09-15', 'annual_salary': '$125,900 ', 'bonus_percent': '7%', 'country': 'United States', 'city': 'Seattle', 'exit_date': '2018-04-16'}\n",
      "Indexing document 28: {'employee_id': 'E02298', 'full_name': 'Ezekiel Kumar', 'job_title': 'Field Engineer', 'department': 'Engineering', 'business_unit': 'Manufacturing', 'gender': 'Male', 'ethnicity': 'Asian', 'age': 33, 'hire_date': '2015-11-19', 'annual_salary': '$82,906 ', 'bonus_percent': '0%', 'country': 'China', 'city': 'Chengdu', 'exit_date': '2016-10-11'}\n",
      "Indexing document 29: {'employee_id': 'E02300', 'full_name': 'Natalie Stewart', 'job_title': 'Network Engineer', 'department': 'IT', 'business_unit': 'Corporate', 'gender': 'Female', 'ethnicity': 'Caucasian', 'age': 50, 'hire_date': '2003-06-30', 'annual_salary': '$92,344 ', 'bonus_percent': '0%', 'country': 'United States', 'city': 'Phoenix', 'exit_date': '2022-01-26'}\n",
      "Indexing document 30: {'employee_id': 'E02311', 'full_name': 'Everly Coleman', 'job_title': 'Sr. Manager', 'department': 'Sales', 'business_unit': 'Corporate', 'gender': 'Female', 'ethnicity': 'Caucasian', 'age': 54, 'hire_date': '2011-08-14', 'annual_salary': '$158,403 ', 'bonus_percent': '14%', 'country': 'United States', 'city': 'Seattle', 'exit_date': '2019-08-02'}\n",
      "Indexing document 31: {'employee_id': 'E02315', 'full_name': 'Kai Phillips', 'job_title': 'Test Engineer', 'department': 'Engineering', 'business_unit': 'Research & Development', 'gender': 'Male', 'ethnicity': 'Caucasian', 'age': 48, 'hire_date': '2016-12-13', 'annual_salary': '$72,315 ', 'bonus_percent': '0%', 'country': 'United States', 'city': 'Austin', 'exit_date': '2017-05-20'}\n",
      "Indexing document 32: {'employee_id': 'E02316', 'full_name': 'Dylan Khan', 'job_title': 'Director', 'department': 'Human Resources', 'business_unit': 'Manufacturing', 'gender': 'Male', 'ethnicity': 'Asian', 'age': 35, 'hire_date': '2015-07-11', 'annual_salary': '$153,815 ', 'bonus_percent': '19%', 'country': 'United States', 'city': 'Miami', 'exit_date': '2016-05-31'}\n",
      "Indexing document 33: {'employee_id': 'E02326', 'full_name': 'Gabriel Ahmed', 'job_title': 'HRIS Analyst', 'department': 'Human Resources', 'business_unit': 'Corporate', 'gender': 'Male', 'ethnicity': 'Asian', 'age': 65, 'hire_date': '2021-10-09', 'annual_salary': '$73,996 ', 'bonus_percent': '0%', 'country': 'China', 'city': 'Chengdu', 'exit_date': '2022-09-04'}\n",
      "Indexing document 34: {'employee_id': 'E02349', 'full_name': 'Thomas Silva', 'job_title': 'Analyst', 'department': 'Finance', 'business_unit': 'Specialty Products', 'gender': 'Male', 'ethnicity': 'Latino', 'age': 45, 'hire_date': '2015-08-13', 'annual_salary': '$52,798 ', 'bonus_percent': '0%', 'country': 'United States', 'city': 'Miami', 'exit_date': '2018-01-30'}\n",
      "Indexing document 35: {'employee_id': 'E02351', 'full_name': 'Liam Jimenez', 'job_title': 'Sr. Analyst', 'department': 'Marketing', 'business_unit': 'Research & Development', 'gender': 'Male', 'ethnicity': 'Latino', 'age': 52, 'hire_date': '2002-08-11', 'annual_salary': '$95,682 ', 'bonus_percent': '0%', 'country': 'United States', 'city': 'Seattle', 'exit_date': '2012-05-17'}\n",
      "Indexing document 36: {'employee_id': 'E02361', 'full_name': 'Christian Castro', 'job_title': 'IT Coordinator', 'department': 'IT', 'business_unit': 'Specialty Products', 'gender': 'Male', 'ethnicity': 'Latino', 'age': 40, 'hire_date': '2006-04-15', 'annual_salary': '$43,645 ', 'bonus_percent': '0%', 'country': 'United States', 'city': 'Austin', 'exit_date': '2008-05-09'}\n",
      "Indexing document 37: {'employee_id': 'E02366', 'full_name': 'Aria Molina', 'job_title': 'Development Engineer', 'department': 'Engineering', 'business_unit': 'Research & Development', 'gender': 'Female', 'ethnicity': 'Latino', 'age': 52, 'hire_date': '2001-10-24', 'annual_salary': '$89,811 ', 'bonus_percent': '0%', 'country': 'Brazil', 'city': 'Rio de Janeiro', 'exit_date': '2022-08-20'}\n",
      "Indexing document 38: {'employee_id': 'E02385', 'full_name': 'Ivy Mehta', 'job_title': 'Business Partner', 'department': 'Human Resources', 'business_unit': 'Manufacturing', 'gender': 'Female', 'ethnicity': 'Asian', 'age': 50, 'hire_date': '2020-05-26', 'annual_salary': '$45,290 ', 'bonus_percent': '0%', 'country': 'China', 'city': 'Chongqing', 'exit_date': '2021-08-04'}\n",
      "Indexing document 39: {'employee_id': 'E02398', 'full_name': 'Hailey Washington', 'job_title': 'Sr. Manager', 'department': 'Finance', 'business_unit': 'Specialty Products', 'gender': 'Female', 'ethnicity': 'Black', 'age': 51, 'hire_date': '2013-07-03', 'annual_salary': '$135,578 ', 'bonus_percent': '10%', 'country': 'United States', 'city': 'Miami', 'exit_date': '2018-07-06'}\n",
      "Indexing document 40: {'employee_id': 'E02400', 'full_name': 'Jose Grant', 'job_title': 'Development Engineer', 'department': 'Engineering', 'business_unit': 'Corporate', 'gender': 'Male', 'ethnicity': 'Caucasian', 'age': 52, 'hire_date': '2021-06-28', 'annual_salary': '$94,857 ', 'bonus_percent': '0%', 'country': 'United States', 'city': 'Miami', 'exit_date': '2023-02-12'}\n",
      "Indexing document 41: {'employee_id': 'E02414', 'full_name': 'Owen Evans', 'job_title': 'Enterprise Architect', 'department': 'IT', 'business_unit': 'Manufacturing', 'gender': 'Male', 'ethnicity': 'Caucasian', 'age': 34, 'hire_date': '2021-05-28', 'annual_salary': '$68,972 ', 'bonus_percent': '0%', 'country': 'United States', 'city': 'Austin', 'exit_date': '2022-10-29'}\n",
      "Indexing document 42: {'employee_id': 'E02424', 'full_name': 'Thomas Smith', 'job_title': 'Field Engineer', 'department': 'Engineering', 'business_unit': 'Specialty Products', 'gender': 'Male', 'ethnicity': 'Caucasian', 'age': 57, 'hire_date': '1999-04-02', 'annual_salary': '$78,212 ', 'bonus_percent': '0%', 'country': 'United States', 'city': 'Miami', 'exit_date': '2010-09-05'}\n",
      "Indexing document 43: {'employee_id': 'E02425', 'full_name': 'Carter Hunter', 'job_title': 'Sr. Analyst', 'department': 'Accounting', 'business_unit': 'Corporate', 'gender': 'Male', 'ethnicity': 'Caucasian', 'age': 41, 'hire_date': '2019-10-07', 'annual_salary': '$72,650 ', 'bonus_percent': '0%', 'country': 'United States', 'city': 'Austin', 'exit_date': '2020-08-21'}\n",
      "Indexing document 44: {'employee_id': 'E02428', 'full_name': 'Hudson Hu', 'job_title': 'Automation Engineer', 'department': 'Engineering', 'business_unit': 'Research & Development', 'gender': 'Male', 'ethnicity': 'Asian', 'age': 36, 'hire_date': '2019-12-02', 'annual_salary': '$121,049 ', 'bonus_percent': '0%', 'country': 'United States', 'city': 'Seattle', 'exit_date': '2023-01-08'}\n",
      "Indexing document 45: {'employee_id': 'E02438', 'full_name': 'Hannah Brown', 'job_title': 'Cloud Infrastructure Architect', 'department': 'IT', 'business_unit': 'Manufacturing', 'gender': 'Female', 'ethnicity': 'Caucasian', 'age': 42, 'hire_date': '2020-07-12', 'annual_salary': '$79,764 ', 'bonus_percent': '0%', 'country': 'United States', 'city': 'Austin', 'exit_date': '2021-02-05'}\n",
      "Indexing document 46: {'employee_id': 'E02445', 'full_name': 'Isaac Choi', 'job_title': 'Operations Engineer', 'department': 'Engineering', 'business_unit': 'Corporate', 'gender': 'Male', 'ethnicity': 'Asian', 'age': 27, 'hire_date': '2021-01-21', 'annual_salary': '$82,286 ', 'bonus_percent': '0%', 'country': 'United States', 'city': 'Chicago', 'exit_date': '2022-11-02'}\n",
      "Indexing document 47: {'employee_id': 'E02446', 'full_name': 'Madeline Smith', 'job_title': 'Cloud Infrastructure Architect', 'department': 'IT', 'business_unit': 'Research & Development', 'gender': 'Female', 'ethnicity': 'Caucasian', 'age': 55, 'hire_date': '2011-11-23', 'annual_salary': '$66,660 ', 'bonus_percent': '0%', 'country': 'United States', 'city': 'Phoenix', 'exit_date': '2017-11-16'}\n",
      "Indexing document 48: {'employee_id': 'E02448', 'full_name': 'Lyla Lai', 'job_title': 'Manager', 'department': 'Human Resources', 'business_unit': 'Specialty Products', 'gender': 'Female', 'ethnicity': 'Asian', 'age': 46, 'hire_date': '2004-08-11', 'annual_salary': '$125,878 ', 'bonus_percent': '10%', 'country': 'United States', 'city': 'Austin', 'exit_date': '2009-01-29'}\n",
      "Indexing document 49: {'employee_id': 'E02450', 'full_name': 'Aubrey Moreno', 'job_title': 'Computer Systems Manager', 'department': 'IT', 'business_unit': 'Research & Development', 'gender': 'Female', 'ethnicity': 'Latino', 'age': 57, 'hire_date': '2000-06-30', 'annual_salary': '$97,083 ', 'bonus_percent': '6%', 'country': 'United States', 'city': 'Austin', 'exit_date': '2008-11-26'}\n",
      "Indexing document 50: {'employee_id': 'E02453', 'full_name': 'Caroline Chau', 'job_title': 'IT Systems Architect', 'department': 'IT', 'business_unit': 'Specialty Products', 'gender': 'Female', 'ethnicity': 'Asian', 'age': 55, 'hire_date': '2022-12-07', 'annual_salary': '$91,179 ', 'bonus_percent': '0%', 'country': 'United States', 'city': 'Columbus', 'exit_date': '2023-02-01'}\n",
      "Indexing document 51: {'employee_id': 'E02497', 'full_name': 'Vivian Chan', 'job_title': 'Sr. Analyst', 'department': 'Sales', 'business_unit': 'Specialty Products', 'gender': 'Female', 'ethnicity': 'Asian', 'age': 61, 'hire_date': '1997-05-12', 'annual_salary': '$72,546 ', 'bonus_percent': '0%', 'country': 'China', 'city': 'Beijing', 'exit_date': '2021-03-29'}\n",
      "Indexing document 52: {'employee_id': 'E02500', 'full_name': 'Leilani Hong', 'job_title': 'System Administrator\\xa0', 'department': 'IT', 'business_unit': 'Manufacturing', 'gender': 'Female', 'ethnicity': 'Asian', 'age': 36, 'hire_date': '2013-12-20', 'annual_salary': '$79,876 ', 'bonus_percent': '0%', 'country': 'United States', 'city': 'Seattle', 'exit_date': '2023-02-02'}\n",
      "Indexing document 53: {'employee_id': 'E02503', 'full_name': 'Scarlett Howard', 'job_title': 'Manager', 'department': 'Finance', 'business_unit': 'Manufacturing', 'gender': 'Female', 'ethnicity': 'Caucasian', 'age': 55, 'hire_date': '2012-08-12', 'annual_salary': '$117,421 ', 'bonus_percent': '5%', 'country': 'United States', 'city': 'Austin', 'exit_date': '2017-08-28'}\n",
      "Indexing document 54: {'employee_id': 'E02520', 'full_name': 'Eli James', 'job_title': 'Network Engineer', 'department': 'IT', 'business_unit': 'Manufacturing', 'gender': 'Male', 'ethnicity': 'Caucasian', 'age': 32, 'hire_date': '2021-04-15', 'annual_salary': '$86,523 ', 'bonus_percent': '0%', 'country': 'United States', 'city': 'Columbus', 'exit_date': '2021-11-07'}\n",
      "Indexing document 55: {'employee_id': 'E02529', 'full_name': 'Charles Bryant', 'job_title': 'Analyst', 'department': 'Sales', 'business_unit': 'Manufacturing', 'gender': 'Male', 'ethnicity': 'Caucasian', 'age': 27, 'hire_date': '2022-07-12', 'annual_salary': '$56,919 ', 'bonus_percent': '0%', 'country': 'United States', 'city': 'Miami', 'exit_date': '2023-01-10'}\n",
      "Indexing document 56: {'employee_id': 'E02541', 'full_name': 'Jameson Vang', 'job_title': 'Computer Systems Manager', 'department': 'IT', 'business_unit': 'Corporate', 'gender': 'Male', 'ethnicity': 'Asian', 'age': 41, 'hire_date': '2018-05-23', 'annual_salary': '$95,669 ', 'bonus_percent': '10%', 'country': 'China', 'city': 'Shanghai', 'exit_date': '2021-06-09'}\n",
      "Indexing document 57: {'employee_id': 'E02549', 'full_name': 'Layla Munoz', 'job_title': 'Director', 'department': 'Human Resources', 'business_unit': 'Corporate', 'gender': 'Female', 'ethnicity': 'Latino', 'age': 39, 'hire_date': '2014-09-24', 'annual_salary': '$182,595 ', 'bonus_percent': '29%', 'country': 'Brazil', 'city': 'Rio de Janeiro', 'exit_date': '2017-09-14'}\n",
      "Indexing document 58: {'employee_id': 'E02553', 'full_name': 'Ayla Cooper', 'job_title': 'Operations Engineer', 'department': 'Engineering', 'business_unit': 'Corporate', 'gender': 'Female', 'ethnicity': 'Caucasian', 'age': 56, 'hire_date': '2017-02-15', 'annual_salary': '$101,637 ', 'bonus_percent': '0%', 'country': 'United States', 'city': 'Chicago', 'exit_date': '2019-12-26'}\n",
      "Indexing document 59: {'employee_id': 'E02562', 'full_name': 'Piper Hsu', 'job_title': 'Analyst', 'department': 'Accounting', 'business_unit': 'Research & Development', 'gender': 'Female', 'ethnicity': 'Asian', 'age': 45, 'hire_date': '2015-08-23', 'annual_salary': '$48,491 ', 'bonus_percent': '0%', 'country': 'United States', 'city': 'Austin', 'exit_date': '2015-10-08'}\n",
      "Indexing document 60: {'employee_id': 'E02564', 'full_name': 'Addison Li', 'job_title': 'HRIS Analyst', 'department': 'Human Resources', 'business_unit': 'Research & Development', 'gender': 'Female', 'ethnicity': 'Asian', 'age': 37, 'hire_date': '2010-03-04', 'annual_salary': '$61,680 ', 'bonus_percent': '0%', 'country': 'China', 'city': 'Beijing', 'exit_date': '2015-06-04'}\n",
      "Indexing document 61: {'employee_id': 'E02567', 'full_name': 'Caleb Rojas', 'job_title': 'Analyst II', 'department': 'Sales', 'business_unit': 'Manufacturing', 'gender': 'Male', 'ethnicity': 'Latino', 'age': 38, 'hire_date': '2021-12-04', 'annual_salary': '$68,281 ', 'bonus_percent': '0%', 'country': 'United States', 'city': 'Miami', 'exit_date': '2022-03-09'}\n",
      "Indexing document 62: {'employee_id': 'E02572', 'full_name': 'Ryan Foster', 'job_title': 'IT Coordinator', 'department': 'IT', 'business_unit': 'Specialty Products', 'gender': 'Male', 'ethnicity': 'Caucasian', 'age': 44, 'hire_date': '2004-02-22', 'annual_salary': '$41,275 ', 'bonus_percent': '0%', 'country': 'United States', 'city': 'Austin', 'exit_date': '2007-06-14'}\n",
      "Indexing document 63: {'employee_id': 'E02577', 'full_name': 'Hudson Washington', 'job_title': 'Cloud Infrastructure Architect', 'department': 'IT', 'business_unit': 'Specialty Products', 'gender': 'Male', 'ethnicity': 'Caucasian', 'age': 43, 'hire_date': '2008-09-17', 'annual_salary': '$76,819 ', 'bonus_percent': '0%', 'country': 'United States', 'city': 'Phoenix', 'exit_date': '2022-10-20'}\n",
      "Indexing document 64: {'employee_id': 'E02593', 'full_name': 'Samantha Zhu', 'job_title': 'Vice President', 'department': 'IT', 'business_unit': 'Specialty Products', 'gender': 'Female', 'ethnicity': 'Asian', 'age': 55, 'hire_date': '2001-10-27', 'annual_salary': '$256,592 ', 'bonus_percent': '30%', 'country': 'China', 'city': 'Beijing', 'exit_date': '2010-05-19'}\n",
      "Indexing document 65: {'employee_id': 'E02608', 'full_name': 'Aiden Cheng', 'job_title': 'Vice President', 'department': 'Marketing', 'business_unit': 'Manufacturing', 'gender': 'Male', 'ethnicity': 'Asian', 'age': 31, 'hire_date': '2019-09-06', 'annual_salary': '$189,403 ', 'bonus_percent': '36%', 'country': 'China', 'city': 'Shanghai', 'exit_date': '2021-03-31'}\n",
      "Indexing document 66: {'employee_id': 'E02609', 'full_name': 'Willow Vang', 'job_title': 'Sr. Analyst', 'department': 'Accounting', 'business_unit': 'Manufacturing', 'gender': 'Female', 'ethnicity': 'Asian', 'age': 31, 'hire_date': '2018-05-18', 'annual_salary': '$78,732 ', 'bonus_percent': '0%', 'country': 'China', 'city': 'Shanghai', 'exit_date': '2019-03-11'}\n",
      "Indexing document 67: {'employee_id': 'E02626', 'full_name': 'Luke Acosta', 'job_title': 'Network Architect', 'department': 'IT', 'business_unit': 'Specialty Products', 'gender': 'Male', 'ethnicity': 'Latino', 'age': 57, 'hire_date': '2022-07-20', 'annual_salary': '$93,872 ', 'bonus_percent': '0%', 'country': 'Brazil', 'city': 'Sao Paulo', 'exit_date': '2022-12-07'}\n",
      "Indexing document 68: {'employee_id': 'E02627', 'full_name': 'Sophia Griffin', 'job_title': 'Vice President', 'department': 'Marketing', 'business_unit': 'Specialty Products', 'gender': 'Female', 'ethnicity': 'Caucasian', 'age': 50, 'hire_date': '2018-06-29', 'annual_salary': '$181,570 ', 'bonus_percent': '35%', 'country': 'United States', 'city': 'Miami', 'exit_date': '2021-10-21'}\n",
      "Indexing document 69: {'employee_id': 'E02638', 'full_name': 'Theodore Truong', 'job_title': 'HRIS Analyst', 'department': 'Human Resources', 'business_unit': 'Corporate', 'gender': 'Male', 'ethnicity': 'Asian', 'age': 45, 'hire_date': '2017-05-23', 'annual_salary': '$66,324 ', 'bonus_percent': '0%', 'country': 'China', 'city': 'Beijing', 'exit_date': '2021-09-10'}\n",
      "Indexing document 70: {'employee_id': 'E02642', 'full_name': 'Zoey Lu', 'job_title': 'Vice President', 'department': 'Marketing', 'business_unit': 'Manufacturing', 'gender': 'Female', 'ethnicity': 'Asian', 'age': 45, 'hire_date': '2007-10-31', 'annual_salary': '$216,269 ', 'bonus_percent': '37%', 'country': 'United States', 'city': 'Chicago', 'exit_date': '2010-12-31'}\n",
      "Indexing document 71: {'employee_id': 'E02650', 'full_name': 'Jonathan Torres', 'job_title': 'Analyst', 'department': 'Finance', 'business_unit': 'Manufacturing', 'gender': 'Male', 'ethnicity': 'Latino', 'age': 56, 'hire_date': '2002-04-12', 'annual_salary': '$48,896 ', 'bonus_percent': '0%', 'country': 'Brazil', 'city': 'Manaus', 'exit_date': '2017-03-14'}\n",
      "Indexing document 72: {'employee_id': 'E02651', 'full_name': 'Samuel Xu', 'job_title': 'Quality Engineer', 'department': 'Engineering', 'business_unit': 'Research & Development', 'gender': 'Male', 'ethnicity': 'Asian', 'age': 32, 'hire_date': '2019-09-20', 'annual_salary': '$82,887 ', 'bonus_percent': '0%', 'country': 'China', 'city': 'Chengdu', 'exit_date': '2020-01-17'}\n",
      "Indexing document 73: {'employee_id': 'E02658', 'full_name': 'Madeline Guerrero', 'job_title': 'Quality Engineer', 'department': 'Engineering', 'business_unit': 'Corporate', 'gender': 'Female', 'ethnicity': 'Latino', 'age': 27, 'hire_date': '2020-08-16', 'annual_salary': '$61,693 ', 'bonus_percent': '0%', 'country': 'Brazil', 'city': 'Sao Paulo', 'exit_date': '2020-11-23'}\n",
      "Indexing document 74: {'employee_id': 'E02667', 'full_name': 'Jacob Cooper', 'job_title': 'Solutions Architect', 'department': 'IT', 'business_unit': 'Research & Development', 'gender': 'Male', 'ethnicity': 'Caucasian', 'age': 64, 'hire_date': '2018-05-18', 'annual_salary': '$87,521 ', 'bonus_percent': '0%', 'country': 'United States', 'city': 'Seattle', 'exit_date': '2021-06-10'}\n",
      "Indexing document 75: {'employee_id': 'E02678', 'full_name': 'Natalia Hall', 'job_title': 'Analyst II', 'department': 'Accounting', 'business_unit': 'Research & Development', 'gender': 'Female', 'ethnicity': 'Caucasian', 'age': 37, 'hire_date': '2018-11-08', 'annual_salary': '$72,005 ', 'bonus_percent': '0%', 'country': 'United States', 'city': 'Austin', 'exit_date': '2021-07-27'}\n",
      "Indexing document 76: {'employee_id': 'E02681', 'full_name': 'Jacob Alexander', 'job_title': 'Business Partner', 'department': 'Human Resources', 'business_unit': 'Specialty Products', 'gender': 'Male', 'ethnicity': 'Caucasian', 'age': 45, 'hire_date': '2001-03-19', 'annual_salary': '$50,393 ', 'bonus_percent': '0%', 'country': 'United States', 'city': 'Miami', 'exit_date': '2011-06-17'}\n",
      "Indexing document 77: {'employee_id': 'E02683', 'full_name': 'Vivian Jackson', 'job_title': 'Sr. Manager', 'department': 'Accounting', 'business_unit': 'Corporate', 'gender': 'Female', 'ethnicity': 'Black', 'age': 51, 'hire_date': '1999-02-23', 'annual_salary': '$148,942 ', 'bonus_percent': '13%', 'country': 'United States', 'city': 'Columbus', 'exit_date': '2007-07-16'}\n",
      "Indexing document 78: {'employee_id': 'E02684', 'full_name': 'Leonardo Jenkins', 'job_title': 'Service Desk Analyst', 'department': 'IT', 'business_unit': 'Research & Development', 'gender': 'Male', 'ethnicity': 'Caucasian', 'age': 29, 'hire_date': '2018-04-09', 'annual_salary': '$98,504 ', 'bonus_percent': '0%', 'country': 'United States', 'city': 'Miami', 'exit_date': '2022-07-12'}\n",
      "Indexing document 79: {'employee_id': 'E02688', 'full_name': 'Kai Shin', 'job_title': 'Sr. Analyst', 'department': 'Sales', 'business_unit': 'Specialty Products', 'gender': 'Male', 'ethnicity': 'Asian', 'age': 49, 'hire_date': '2015-09-13', 'annual_salary': '$91,121 ', 'bonus_percent': '0%', 'country': 'United States', 'city': 'Seattle', 'exit_date': '2019-12-23'}\n",
      "Indexing document 80: {'employee_id': 'E02690', 'full_name': 'Aiden Carter', 'job_title': 'Network Architect', 'department': 'IT', 'business_unit': 'Manufacturing', 'gender': 'Male', 'ethnicity': 'Caucasian', 'age': 32, 'hire_date': '2021-03-05', 'annual_salary': '$71,674 ', 'bonus_percent': '0%', 'country': 'United States', 'city': 'Chicago', 'exit_date': '2021-06-17'}\n",
      "Indexing document 81: {'employee_id': 'E02700', 'full_name': 'John Richardson', 'job_title': 'Computer Systems Manager', 'department': 'IT', 'business_unit': 'Manufacturing', 'gender': 'Male', 'ethnicity': 'Caucasian', 'age': 34, 'hire_date': '2014-12-29', 'annual_salary': '$77,024 ', 'bonus_percent': '9%', 'country': 'United States', 'city': 'Phoenix', 'exit_date': '2021-10-23'}\n",
      "Indexing document 82: {'employee_id': 'E02719', 'full_name': 'Colton Mejia', 'job_title': 'Sr. Manager', 'department': 'Accounting', 'business_unit': 'Research & Development', 'gender': 'Male', 'ethnicity': 'Latino', 'age': 28, 'hire_date': '2019-04-26', 'annual_salary': '$141,675 ', 'bonus_percent': '12%', 'country': 'Brazil', 'city': 'Rio de Janeiro', 'exit_date': '2020-09-24'}\n",
      "Indexing document 83: {'employee_id': 'E02722', 'full_name': 'Vivian Brooks', 'job_title': 'Business Partner', 'department': 'Human Resources', 'business_unit': 'Specialty Products', 'gender': 'Female', 'ethnicity': 'Black', 'age': 34, 'hire_date': '2022-09-12', 'annual_salary': '$57,483 ', 'bonus_percent': '0%', 'country': 'United States', 'city': 'Seattle', 'exit_date': '2022-11-18'}\n",
      "Indexing document 84: {'employee_id': 'E02735', 'full_name': 'Logan Brooks', 'job_title': 'Director', 'department': 'IT', 'business_unit': 'Corporate', 'gender': 'Male', 'ethnicity': 'Caucasian', 'age': 28, 'hire_date': '2020-05-07', 'annual_salary': '$178,300 ', 'bonus_percent': '24%', 'country': 'United States', 'city': 'Austin', 'exit_date': '2023-01-25'}\n",
      "Indexing document 85: {'employee_id': 'E02753', 'full_name': 'Gabriel Cheung', 'job_title': 'Analyst', 'department': 'Finance', 'business_unit': 'Specialty Products', 'gender': 'Male', 'ethnicity': 'Asian', 'age': 64, 'hire_date': '2016-11-29', 'annual_salary': '$43,785 ', 'bonus_percent': '0%', 'country': 'China', 'city': 'Chongqing', 'exit_date': '2018-06-26'}\n",
      "Indexing document 86: {'employee_id': 'E02758', 'full_name': 'Sadie Pham', 'job_title': 'Analyst II', 'department': 'Finance', 'business_unit': 'Specialty Products', 'gender': 'Female', 'ethnicity': 'Asian', 'age': 26, 'hire_date': '2022-12-25', 'annual_salary': '$66,563 ', 'bonus_percent': '0%', 'country': 'China', 'city': 'Chengdu', 'exit_date': '2023-01-25'}\n",
      "Indexing document 87: {'employee_id': 'E02770', 'full_name': 'Iris Bailey', 'job_title': 'IT Coordinator', 'department': 'IT', 'business_unit': 'Research & Development', 'gender': 'Female', 'ethnicity': 'Caucasian', 'age': 26, 'hire_date': '2020-02-18', 'annual_salary': '$42,343 ', 'bonus_percent': '0%', 'country': 'United States', 'city': 'Miami', 'exit_date': '2020-06-02'}\n",
      "Indexing document 88: {'employee_id': 'E02776', 'full_name': 'Caroline Sandoval', 'job_title': 'Manager', 'department': 'Finance', 'business_unit': 'Specialty Products', 'gender': 'Female', 'ethnicity': 'Latino', 'age': 51, 'hire_date': '2012-09-10', 'annual_salary': '$129,727 ', 'bonus_percent': '8%', 'country': 'United States', 'city': 'Phoenix', 'exit_date': '2021-10-07'}\n",
      "Indexing document 89: {'employee_id': 'E02848', 'full_name': 'Clara Collins', 'job_title': 'Network Engineer', 'department': 'IT', 'business_unit': 'Manufacturing', 'gender': 'Female', 'ethnicity': 'Caucasian', 'age': 40, 'hire_date': '2008-03-03', 'annual_salary': '$63,889 ', 'bonus_percent': '0%', 'country': 'United States', 'city': 'Seattle', 'exit_date': '2022-10-17'}\n",
      "Indexing document 90: {'employee_id': 'E02851', 'full_name': 'Piper Evans', 'job_title': 'Computer Systems Manager', 'department': 'IT', 'business_unit': 'Specialty Products', 'gender': 'Female', 'ethnicity': 'Caucasian', 'age': 52, 'hire_date': '2014-01-28', 'annual_salary': '$89,379 ', 'bonus_percent': '10%', 'country': 'United States', 'city': 'Seattle', 'exit_date': '2022-06-11'}\n",
      "Indexing document 91: {'employee_id': 'E02878', 'full_name': 'Logan Ortega', 'job_title': 'Analyst II', 'department': 'Marketing', 'business_unit': 'Manufacturing', 'gender': 'Male', 'ethnicity': 'Latino', 'age': 31, 'hire_date': '2020-05-19', 'annual_salary': '$64,234 ', 'bonus_percent': '0%', 'country': 'United States', 'city': 'Seattle', 'exit_date': '2021-11-11'}\n",
      "Indexing document 92: {'employee_id': 'E02253', 'full_name': 'Leilani Ng', 'job_title': 'Systems Analyst', 'department': 'IT', 'business_unit': 'Corporate', 'gender': 'Female', 'ethnicity': 'Asian', 'age': 48, 'hire_date': '2011-09-19', 'annual_salary': '$50,513 ', 'bonus_percent': '0%', 'country': 'United States', 'city': 'Seattle', 'exit_date': '2019-10-30'}\n",
      "Indexing document 93: {'employee_id': 'E02567', 'full_name': 'Caleb Rojas', 'job_title': 'Analyst II', 'department': 'Sales', 'business_unit': 'Manufacturing', 'gender': 'Male', 'ethnicity': 'Latino', 'age': 38, 'hire_date': '2021-12-04', 'annual_salary': '$68,281 ', 'bonus_percent': '0%', 'country': 'United States', 'city': 'Miami', 'exit_date': '2022-03-09'}\n",
      "Indexing document 94: {'employee_id': 'E02572', 'full_name': 'Ryan Foster', 'job_title': 'IT Coordinator', 'department': 'IT', 'business_unit': 'Specialty Products', 'gender': 'Male', 'ethnicity': 'Caucasian', 'age': 44, 'hire_date': '2004-02-22', 'annual_salary': '$41,275 ', 'bonus_percent': '0%', 'country': 'United States', 'city': 'Austin', 'exit_date': '2007-06-14'}\n",
      "Indexing document 95: {'employee_id': 'E02500', 'full_name': 'Leilani Hong', 'job_title': 'System Administrator\\xa0', 'department': 'IT', 'business_unit': 'Manufacturing', 'gender': 'Female', 'ethnicity': 'Asian', 'age': 36, 'hire_date': '2013-12-20', 'annual_salary': '$79,876 ', 'bonus_percent': '0%', 'country': 'United States', 'city': 'Seattle', 'exit_date': '2023-02-02'}\n",
      "Indexing document 96: {'employee_id': 'E02503', 'full_name': 'Scarlett Howard', 'job_title': 'Manager', 'department': 'Finance', 'business_unit': 'Manufacturing', 'gender': 'Female', 'ethnicity': 'Caucasian', 'age': 55, 'hire_date': '2012-08-12', 'annual_salary': '$117,421 ', 'bonus_percent': '5%', 'country': 'United States', 'city': 'Austin', 'exit_date': '2017-08-28'}\n",
      "Indexing document 97: {'employee_id': 'E02202', 'full_name': 'Charles Ramos', 'job_title': 'Sr. Analyst', 'department': 'Accounting', 'business_unit': 'Corporate', 'gender': 'Male', 'ethnicity': 'Latino', 'age': 57, 'hire_date': '2010-04-04', 'annual_salary': '$74,597 ', 'bonus_percent': '0%', 'country': 'United States', 'city': 'Austin', 'exit_date': '2016-01-30'}\n",
      "Indexing document 98: {'employee_id': 'E02023', 'full_name': 'Lillian Lewis', 'job_title': 'Technical Architect', 'department': 'IT', 'business_unit': 'Research & Development', 'gender': 'Female', 'ethnicity': 'Black', 'age': 43, 'hire_date': '2013-08-14', 'annual_salary': '$83,323 ', 'bonus_percent': '0%', 'country': 'United States', 'city': 'Phoenix', 'exit_date': '2019-03-31'}\n",
      "Indexing document 99: {'employee_id': 'E02236', 'full_name': 'Jack Perez', 'job_title': 'Cloud Infrastructure Architect', 'department': 'IT', 'business_unit': 'Research & Development', 'gender': 'Male', 'ethnicity': 'Latino', 'age': 30, 'hire_date': '2017-01-09', 'annual_salary': '$80,389 ', 'bonus_percent': '0%', 'country': 'Brazil', 'city': 'Manaus', 'exit_date': '2017-09-10'}\n",
      "Indexing document 100: {'employee_id': 'E02244', 'full_name': 'Connor Howard', 'job_title': 'Systems Analyst', 'department': 'IT', 'business_unit': 'Specialty Products', 'gender': 'Male', 'ethnicity': 'Caucasian', 'age': 42, 'hire_date': '2021-03-15', 'annual_salary': '$44,265 ', 'bonus_percent': '0%', 'country': 'United States', 'city': 'Austin', 'exit_date': '2022-06-27'}\n",
      "Indexing document 101: {'employee_id': 'E02253', 'full_name': 'Leilani Ng', 'job_title': 'Systems Analyst', 'department': 'IT', 'business_unit': 'Corporate', 'gender': 'Female', 'ethnicity': 'Asian', 'age': 48, 'hire_date': '2011-09-19', 'annual_salary': '$50,513 ', 'bonus_percent': '0%', 'country': 'United States', 'city': 'Seattle', 'exit_date': '2019-10-30'}\n"
     ]
    }
   ],
   "source": [
    "indexData(v_nameCollection, 'Department')\n",
    "indexData(v_phoneCollection, 'Gender')"
   ]
  },
  {
   "cell_type": "code",
   "execution_count": 73,
   "metadata": {},
   "outputs": [
    {
     "name": "stdout",
     "output_type": "stream",
     "text": [
      "Employee with ID 'E02003' deleted from collection 'hash_kowshi'.\n",
      "Total employees in collection 'hash_kowshi': 0\n"
     ]
    }
   ],
   "source": [
    "delEmpById(v_nameCollection, 'E02003')\n",
    "\n",
    "# Get employee count after deletion\n",
    "getEmpCount(v_nameCollection)"
   ]
  },
  {
   "cell_type": "code",
   "execution_count": 74,
   "metadata": {},
   "outputs": [],
   "source": [
    "searchByColumn(v_nameCollection, 'Department', 'IT')\n",
    "searchByColumn(v_nameCollection, 'Gender', 'Male')\n",
    "searchByColumn(v_phoneCollection, 'Department', 'IT')"
   ]
  },
  {
   "cell_type": "code",
   "execution_count": 75,
   "metadata": {},
   "outputs": [
    {
     "name": "stdout",
     "output_type": "stream",
     "text": [
      "Department Aggregation Results:\n",
      "{'hash_kowshi': {'mappings': {'properties': {'age': {'type': 'integer'}, 'annual_salary': {'type': 'text'}, 'bonus_percent': {'type': 'text'}, 'business_unit': {'type': 'text', 'analyzer': 'standard'}, 'city': {'type': 'keyword'}, 'country': {'type': 'keyword'}, 'department': {'type': 'text', 'analyzer': 'standard'}, 'employee_id': {'type': 'keyword'}, 'ethnicity': {'type': 'keyword'}, 'exit_date': {'type': 'date', 'format': 'M/d/yyyy'}, 'full_name': {'type': 'text', 'analyzer': 'standard'}, 'gender': {'type': 'keyword'}, 'hire_date': {'type': 'date', 'format': 'M/d/yyyy||MM/dd/yyyy'}, 'job_title': {'type': 'text', 'analyzer': 'standard'}}}}}\n",
      "Department Aggregation Results:\n",
      "{'hash_9483': {'mappings': {'properties': {'age': {'type': 'integer'}, 'annual_salary': {'type': 'text'}, 'bonus_percent': {'type': 'text'}, 'business_unit': {'type': 'text', 'analyzer': 'standard'}, 'city': {'type': 'keyword'}, 'country': {'type': 'keyword'}, 'department': {'type': 'text', 'analyzer': 'standard'}, 'employee_id': {'type': 'keyword'}, 'ethnicity': {'type': 'keyword'}, 'exit_date': {'type': 'date', 'format': 'M/d/yyyy'}, 'full_name': {'type': 'text', 'analyzer': 'standard'}, 'gender': {'type': 'keyword'}, 'hire_date': {'type': 'date', 'format': 'M/d/yyyy||MM/dd/yyyy'}, 'job_title': {'type': 'text', 'analyzer': 'standard'}}}}}\n"
     ]
    }
   ],
   "source": [
    "getDepFacet(v_nameCollection)\n",
    "getDepFacet(v_phoneCollection)"
   ]
  }
 ],
 "metadata": {
  "kernelspec": {
   "display_name": "kowshi",
   "language": "python",
   "name": "python3"
  },
  "language_info": {
   "codemirror_mode": {
    "name": "ipython",
    "version": 3
   },
   "file_extension": ".py",
   "mimetype": "text/x-python",
   "name": "python",
   "nbconvert_exporter": "python",
   "pygments_lexer": "ipython3",
   "version": "3.12.3"
  }
 },
 "nbformat": 4,
 "nbformat_minor": 2
}
